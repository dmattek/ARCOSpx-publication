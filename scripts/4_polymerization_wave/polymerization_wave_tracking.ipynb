{
 "cells": [
  {
   "cell_type": "markdown",
   "id": "ddc1090d8ed30bef",
   "metadata": {
    "collapsed": false
   },
   "source": [
    "# Figure 3: polymerization wave in REF52 cells"
   ]
  },
  {
   "cell_type": "markdown",
   "id": "e64de3774c0e8c28",
   "metadata": {
    "collapsed": false
   },
   "source": [
    "This jupyter notebook is used to calculate delays of the myosin and rGBD channels with respect to actin.\n"
   ]
  },
  {
   "cell_type": "markdown",
   "id": "17c0570124abe5f1",
   "metadata": {
    "collapsed": false
   },
   "source": [
    "# Load required packages"
   ]
  },
  {
   "cell_type": "code",
   "execution_count": null,
   "id": "d699e8482c9d0b48",
   "metadata": {
    "ExecuteTime": {
     "end_time": "2024-01-19T12:09:01.896308Z",
     "start_time": "2024-01-19T12:09:01.611704Z"
    },
    "collapsed": false
   },
   "outputs": [],
   "source": [
    "import os\n",
    "import numpy as np\n",
    "import pandas as pd\n",
    "\n",
    "import matplotlib.pyplot as plt\n",
    "import seaborn as sns\n",
    "from matplotlib_scalebar.scalebar import ScaleBar\n",
    "\n",
    "from napari.utils.colormaps import label_colormap\n",
    "from napari_timestamper import render_as_rgb\n",
    "\n",
    "import napari\n",
    "\n",
    "from arcos4py.tools import track_events_image, remove_image_background\n",
    "from arcos4py.tools._detect_events import upscale_image\n",
    "from arcos4py.tools._cleandata import blockwise_median\n",
    "\n",
    "from napari_timestamper import save_image_stack\n",
    "\n",
    "from skimage import io\n",
    "from skimage.filters import gaussian\n",
    "from skimage.filters import rank\n",
    "from skimage.measure import regionprops\n",
    "from skimage.util import map_array\n",
    "\n",
    "from scipy import ndimage\n",
    "from scipy import stats\n",
    "from statsmodels.tsa.tsatools import detrend\n",
    "\n",
    "from basicpy import BaSiC\n",
    "from pystackreg import StackReg\n",
    "\n",
    "from numba import njit, prange\n",
    "from numba_progress import ProgressBar\n",
    "\n",
    "from napari.utils.colormaps import CyclicLabelColormap\n",
    "from matplotlib import colormaps as mpl_colormaps\n",
    "\n",
    "import cv2\n",
    "\n",
    "from cellpose import models\n",
    "\n",
    "\n",
    "from tqdm.auto import tqdm\n",
    "\n",
    "# rc config to save svgs as text\n",
    "plt.rcParams[\"svg.fonttype\"] = \"none\"\n",
    "# set font to Arial\n",
    "plt.rcParams[\"font.sans-serif\"] = \"Arial\"\n",
    "# set font size to 8\n",
    "plt.rcParams.update({\"font.size\": 8})"
   ]
  },
  {
   "cell_type": "code",
   "execution_count": null,
   "id": "a5397002",
   "metadata": {},
   "outputs": [],
   "source": [
    "colors = [\"#046735\", \"#76CDE8\", \"#7A2989\"]\n",
    "names = [\"actin\", \"myosin\", \"rGBD\"]\n",
    "\n",
    "# create a deterministic CyclicColormap for the tracked waves\n",
    "tab20 = mpl_colormaps.get_cmap(\"tab20\")\n",
    "colors_tab20 = [color for idx, color in enumerate(tab20.colors) if idx not in [10, 11, 14, 15]]\n",
    "# create a tab20b cyclic colormap\n",
    "cmap = CyclicLabelColormap(\n",
    "    colors_tab20,\n",
    "    name=\"tab20b\",\n",
    "    N=16,\n",
    "    cyclic=True,\n",
    ")"
   ]
  },
  {
   "cell_type": "code",
   "execution_count": null,
   "id": "a822915b",
   "metadata": {},
   "outputs": [],
   "source": [
    "DIR_CORE = \"4_polymerization_wave\"\n",
    "DIR_IN = os.path.join(DIR_CORE, \"input-data\")\n",
    "DIR_OUT_DATA = os.path.join(DIR_CORE, \"output-data\")\n",
    "DIR_OUT_PLOT = os.path.join(DIR_CORE, \"output-plots\")\n",
    "DIR_OUT_VIDEO = os.path.join(DIR_CORE, \"output-videos\")\n",
    "DIR_MISC = \"misc\"\n",
    "\n",
    "PIXEL_SIZE = 0.366\n",
    "SAMPLE_PERIOD_S = 10  # sample period in seconds\n",
    "WINDOW_SIZE = 100  # window size in frames; set as needed"
   ]
  },
  {
   "cell_type": "code",
   "execution_count": null,
   "id": "239ae6ec",
   "metadata": {},
   "outputs": [
    {
     "name": "stdout",
     "output_type": "stream",
     "text": [
      "Directory ../../data/4_polymerization_wave/output-data already exists!\n",
      "Directory ../../data/4_polymerization_wave/output-plots already exists!\n",
      "Directory ../../data/4_polymerization_wave/output-videos already exists!\n"
     ]
    }
   ],
   "source": [
    "# create output directories if they do not exist\n",
    "os.makedirs(DIR_OUT_DATA, exist_ok=True)\n",
    "os.makedirs(DIR_OUT_PLOT, exist_ok=True)\n",
    "os.makedirs(DIR_OUT_VIDEO, exist_ok=True)"
   ]
  },
  {
   "cell_type": "markdown",
   "id": "57516ba88f61b48a",
   "metadata": {
    "collapsed": false
   },
   "source": [
    "# Define functions"
   ]
  },
  {
   "cell_type": "code",
   "execution_count": null,
   "id": "ae9f4d56adba16d2",
   "metadata": {
    "ExecuteTime": {
     "end_time": "2024-01-19T12:09:01.976718Z",
     "start_time": "2024-01-19T12:09:01.618116Z"
    },
    "collapsed": false
   },
   "outputs": [],
   "source": [
    "def remap_segmentation(\n",
    "    df: pd.DataFrame,\n",
    "    segmentation: list,\n",
    "    timepoint_column: str = \"timepoint\",\n",
    "    label_column: str = \"label\",\n",
    "    measure_column: str = \"ERK\",\n",
    ") -> list:\n",
    "    tracked_numpy = df[[timepoint_column, label_column, measure_column]].sort_values(timepoint_column).to_numpy()\n",
    "    grouped_numpy = np.split(tracked_numpy, np.unique(tracked_numpy[:, 0], return_index=True)[1][1:])\n",
    "    ratio_remapped = []\n",
    "    for img, grp in zip(segmentation, grouped_numpy):\n",
    "        img_copy = map_array(img, grp[:, 1], grp[:, 2])\n",
    "        ratio_remapped.append(img_copy)\n",
    "    return np.asarray(ratio_remapped)\n",
    "\n",
    "\n",
    "def compute_confidence_interval(data, confidence_level=0.95):\n",
    "    \"\"\"\n",
    "    Compute the confidence interval for the given data.\n",
    "\n",
    "    Parameters:\n",
    "    - data (array-like): The data for which to compute the confidence interval.\n",
    "    - confidence_level (float): The confidence level for the interval (default is 0.95).\n",
    "\n",
    "    Returns:\n",
    "    - tuple: The mean and the confidence interval as (mean, (lower_bound, upper_bound)).\n",
    "    \"\"\"\n",
    "    mean = np.mean(data)\n",
    "    sem = stats.sem(data)\n",
    "    degrees_of_freedom = len(data) - 1\n",
    "    t_score = stats.t.ppf((1 + confidence_level) / 2.0, degrees_of_freedom)\n",
    "    margin_of_error = t_score * sem\n",
    "    confidence_interval = (mean - margin_of_error, mean + margin_of_error)\n",
    "    return mean, confidence_interval\n",
    "\n",
    "\n",
    "def match_histogram(source, template):\n",
    "    hist_source, bin_edges = np.histogram(source.ravel(), bins=65536, range=(0, 65536))\n",
    "    hist_template, _ = np.histogram(template.ravel(), bins=65536, range=(0, 65536))\n",
    "\n",
    "    cdf_source = hist_source.cumsum() / hist_source.sum()\n",
    "    cdf_template = hist_template.cumsum() / hist_template.sum()\n",
    "\n",
    "    lookup_table = np.zeros(65536, dtype=np.uint16)\n",
    "    j = 0\n",
    "    for i in range(65536):\n",
    "        while cdf_template[j] < cdf_source[i] and j < 65535:\n",
    "            j += 1\n",
    "        lookup_table[i] = j\n",
    "\n",
    "    matched = lookup_table[source]\n",
    "    return matched\n",
    "\n",
    "\n",
    "def match_histogram_stack(img_stack, template):\n",
    "    matched_stack = np.zeros_like(img_stack)\n",
    "    for i in range(img_stack.shape[0]):\n",
    "        matched_stack[i] = match_histogram(img_stack[i], template)\n",
    "    return matched_stack\n",
    "\n",
    "\n",
    "def filter_by_duration(labeled_stack, min_duration):\n",
    "    \"\"\"\n",
    "    Removes tracks from a labeled image stack if their duration is less than the specified minimum.\n",
    "    \"\"\"\n",
    "    labeled_stack = np.copy(labeled_stack)\n",
    "\n",
    "    unique_labels = np.unique(labeled_stack)[1:]  # Exclude background (label 0)\n",
    "\n",
    "    for label in unique_labels:\n",
    "        # Get the coordinates of all pixels belonging to the current label (track) for each time point\n",
    "        time_points = np.unique(np.where(labeled_stack == label)[0])\n",
    "\n",
    "        # If the duration is less than min_duration, remove the track\n",
    "        if len(time_points) < min_duration:\n",
    "            labeled_stack[labeled_stack == label] = 0\n",
    "\n",
    "    return labeled_stack\n",
    "\n",
    "\n",
    "def correct_flatfield(raw_image: np.ndarray, flatfield_image: np.ndarray, darkfield_image: np.ndarray) -> np.ndarray:\n",
    "    \"\"\"\n",
    "    Corrects flatfield in a microscopy image using dark field correction and gain.\n",
    "\n",
    "    see wiki: https://en.wikipedia.org/wiki/Flat-field_correction\n",
    "\n",
    "    Arguments\n",
    "    ---------\n",
    "        raw_image (np.ndarray): numpy array, the raw image to correct\n",
    "        flatfield_image (np.ndarray): numpy array, the flatfield image\n",
    "        darkfield_image (np.ndarray): numpy array, the darkfield image\n",
    "\n",
    "    Returns\n",
    "    -------\n",
    "        np.ndarray: Corrected image.\n",
    "    \"\"\"\n",
    "    # Ensure the images are in float format to avoid division issues\n",
    "    raw_image = raw_image.astype(np.float32)\n",
    "    flatfield_image = flatfield_image.astype(np.float32)\n",
    "    darkfield_image = darkfield_image.astype(np.float32)\n",
    "\n",
    "    # Calculate the image-averaged value of (F - D)\n",
    "    m = np.mean(flatfield_image - darkfield_image)\n",
    "\n",
    "    # Calculate the gain\n",
    "    gain = m / (flatfield_image - darkfield_image)\n",
    "\n",
    "    # Apply the correction formula: C = (R - D) * G\n",
    "    corrected_image = (raw_image - darkfield_image) * gain\n",
    "\n",
    "    return corrected_image\n",
    "\n",
    "\n",
    "def correct_flatfield_stack(stack, flatfield, darkfield):\n",
    "    corrected_stack = np.zeros_like(stack)\n",
    "    for i in range(stack.shape[0]):\n",
    "        corrected_stack[i] = correct_flatfield(stack[i], flatfield, darkfield)\n",
    "    return corrected_stack\n",
    "\n",
    "\n",
    "def post_process_results(results_list, intensity_column: str = \"normalized_intensity\", filter_window_size: int = 9):\n",
    "    \"\"\"\n",
    "    Convert results to a Pandas DataFrame and normalize intensities by event_id.\n",
    "    \"\"\"\n",
    "    # Convert to DataFrame\n",
    "    df = pd.DataFrame(results_list, columns=[\"event_id\", \"frame\", \"intensity\", \"channel\", \"middle_frame\"])\n",
    "\n",
    "    # Apply median filter using rolling within each group, ensuring alignment\n",
    "    df[\"filtered_intensity\"] = df.groupby([\"event_id\", \"channel\", \"middle_frame\"])[\"intensity\"].transform(\n",
    "        lambda x: x.rolling(window=filter_window_size, min_periods=1, center=True).median()\n",
    "    )\n",
    "\n",
    "    # Normalize intensities\n",
    "    df[\"normalized_intensity\"] = df.groupby([\"event_id\", \"channel\", \"middle_frame\"])[\"filtered_intensity\"].transform(\n",
    "        lambda x: (x - x.mean()) / x.std()\n",
    "    )\n",
    "\n",
    "    # Detrend intensities\n",
    "    df[\"detrended_intensities\"] = df.groupby([\"event_id\", \"channel\", \"middle_frame\"])[\"normalized_intensity\"].transform(\n",
    "        lambda x: detrend(x, order=1)\n",
    "    )\n",
    "\n",
    "    # Reshape DataFrame: one column per channel\n",
    "    df = df.pivot_table(\n",
    "        index=[\"event_id\", \"frame\", \"middle_frame\"], columns=\"channel\", values=intensity_column\n",
    "    ).reset_index()\n",
    "\n",
    "    return df\n",
    "\n",
    "\n",
    "@njit\n",
    "def get_event_properties(event_image, event_id):\n",
    "    \"\"\"\n",
    "    Identify the start and end frames of an event and its duration.\n",
    "    \"\"\"\n",
    "    filtered_event = (event_image == event_id).astype(np.uint8)\n",
    "    num_frames = filtered_event.shape[0]\n",
    "    start_frame = -1\n",
    "    end_frame = -1\n",
    "    count = 0\n",
    "\n",
    "    for i in range(num_frames):\n",
    "        if np.any(filtered_event[i]):\n",
    "            if count == 0:\n",
    "                start_frame = i\n",
    "            end_frame = i\n",
    "            count += 1\n",
    "\n",
    "    if count == 0:\n",
    "        return -1, -1, 0, filtered_event\n",
    "\n",
    "    duration = end_frame - start_frame + 1\n",
    "    return start_frame, end_frame, duration, filtered_event\n",
    "\n",
    "\n",
    "@njit\n",
    "def apply_mask(data, mask):\n",
    "    \"\"\"\n",
    "    Manually apply a 2D boolean mask to a 2D array.\n",
    "    \"\"\"\n",
    "    flat_data = data.ravel()\n",
    "    flat_mask = mask.ravel()\n",
    "    result = np.empty(flat_data.size, dtype=data.dtype)\n",
    "    count = 0\n",
    "    for i in range(flat_data.size):\n",
    "        if flat_mask[i]:\n",
    "            result[count] = flat_data[i]\n",
    "            count += 1\n",
    "    return result[:count]\n",
    "\n",
    "\n",
    "@njit\n",
    "def compute_label_intensities(\n",
    "    filtered_event,\n",
    "    intensity_image,\n",
    "    start_frame,\n",
    "    end_frame,\n",
    "    num_channels,\n",
    "    window_size=100,\n",
    "    padding_mode=\"edge\",\n",
    "    valid_windows_only=False,\n",
    "):\n",
    "    \"\"\"\n",
    "    Compute mean intensities for a window around each middle frame.\n",
    "    \"\"\"\n",
    "    n_frames = filtered_event.shape[0]\n",
    "    # If only valid windows are allowed, restrict the middle frames range.\n",
    "    if valid_windows_only:\n",
    "        valid_start = max(start_frame, window_size)\n",
    "        valid_end = min(end_frame, n_frames - window_size)\n",
    "        valid_middle_frames = []\n",
    "        for m in range(valid_start, valid_end):\n",
    "            valid_middle_frames.append(m)\n",
    "    else:\n",
    "        valid_middle_frames = []\n",
    "        for m in range(start_frame, end_frame):\n",
    "            valid_middle_frames.append(m)\n",
    "\n",
    "    num_valid = len(valid_middle_frames)\n",
    "    intensities = np.zeros((window_size * 2, num_valid, num_channels))\n",
    "\n",
    "    for idx in range(num_valid):\n",
    "        m = valid_middle_frames[idx]\n",
    "        min_frame_range = m - window_size\n",
    "        max_frame_range = m + window_size\n",
    "        label_image = filtered_event[m]\n",
    "\n",
    "        # Precompute the indices for the mask once per middle frame.\n",
    "        nrows, ncols = label_image.shape\n",
    "        count_pixels = 0\n",
    "        for i in range(nrows):\n",
    "            for j in range(ncols):\n",
    "                if label_image[i, j]:\n",
    "                    count_pixels += 1\n",
    "        indices_i = np.empty(count_pixels, dtype=np.int64)\n",
    "        indices_j = np.empty(count_pixels, dtype=np.int64)\n",
    "        k = 0\n",
    "        for i in range(nrows):\n",
    "            for j in range(ncols):\n",
    "                if label_image[i, j]:\n",
    "                    indices_i[k] = i\n",
    "                    indices_j[k] = j\n",
    "                    k += 1\n",
    "\n",
    "        # Process each frame in the window\n",
    "        for frame in range(min_frame_range, max_frame_range):\n",
    "            # Determine which frame to use (with padding)\n",
    "            if frame < 0:\n",
    "                if padding_mode == \"nan\":\n",
    "                    channel_data = np.full((intensity_image.shape[1], intensity_image.shape[2], num_channels), np.nan)\n",
    "                else:  # \"edge\"\n",
    "                    channel_data = intensity_image[0]\n",
    "            elif frame >= intensity_image.shape[0]:\n",
    "                if padding_mode == \"nan\":\n",
    "                    channel_data = np.full((intensity_image.shape[1], intensity_image.shape[2], num_channels), np.nan)\n",
    "                else:\n",
    "                    channel_data = intensity_image[-1]\n",
    "            else:\n",
    "                channel_data = intensity_image[frame]\n",
    "            frame_offset = frame - min_frame_range\n",
    "\n",
    "            # For each channel, compute the mean of the masked pixels.\n",
    "            for ch in range(num_channels):\n",
    "                sum_val = 0.0\n",
    "                cnt = 0\n",
    "                for k in range(count_pixels):\n",
    "                    val = channel_data[indices_i[k], indices_j[k], ch]\n",
    "                    # For 'nan' mode, skip NaNs in the average.\n",
    "                    if padding_mode == \"nan\" and np.isnan(val):\n",
    "                        continue\n",
    "                    sum_val += val\n",
    "                    cnt += 1\n",
    "                if cnt > 0:\n",
    "                    intensities[frame_offset, idx, ch] = sum_val / cnt\n",
    "                else:\n",
    "                    intensities[frame_offset, idx, ch] = np.nan\n",
    "\n",
    "    return intensities, valid_middle_frames\n",
    "\n",
    "\n",
    "@njit(parallel=True)\n",
    "def analyze_events(\n",
    "    event_image,\n",
    "    intensity_image,\n",
    "    event_ids,\n",
    "    window_size,\n",
    "    padding_mode=\"edge\",\n",
    "    valid_windows_only=False,\n",
    "    min_duration=10,\n",
    "    progress_proxy=None,\n",
    "):\n",
    "    \"\"\"\n",
    "    Analyze events in an event image and compute intensities for each event.\n",
    "\n",
    "    Parameters:\n",
    "    - event_image (np.ndarray): The event image.\n",
    "    - intensity_image (np.ndarray): The intensity image array, with shape (n_frames, height, width, n_channels).\n",
    "    - event_ids (list): The list of event IDs to analyze.\n",
    "    - window_size (int): The window size for computing intensities.\n",
    "    - padding_mode (str): The padding mode for frames outside the intensity image. Can be 'edge' or 'nan'. Only required\n",
    "        if valid_windows_only is False.\n",
    "    - valid_windows_only (bool): If True, only valid windows are considered. Where a valid window is one that does not\n",
    "        extend beyond the start or end of the event.\n",
    "    - min_duration (int): The minimum duration of an event to consider.\n",
    "    - progress_proxy (ProgressBar): A progress bar proxy from the numba_progress package.\n",
    "    \"\"\"\n",
    "    num_events = len(event_ids)\n",
    "    num_channels = intensity_image.shape[-1]\n",
    "    results_list = []\n",
    "\n",
    "    for i in prange(num_events):\n",
    "        event_id = event_ids[i]\n",
    "        start_frame, end_frame, duration, filtered_event = get_event_properties(event_image, event_id)\n",
    "\n",
    "        if duration < min_duration:\n",
    "            if progress_proxy is not None:\n",
    "                progress_proxy.update(1)\n",
    "            continue  # Skip short events\n",
    "\n",
    "        intensities, valid_middle_frames = compute_label_intensities(\n",
    "            filtered_event,\n",
    "            intensity_image,\n",
    "            start_frame,\n",
    "            end_frame,\n",
    "            num_channels,\n",
    "            window_size,\n",
    "            padding_mode,\n",
    "            valid_windows_only,\n",
    "        )\n",
    "\n",
    "        # For each valid middle frame, accumulate results.\n",
    "        for mid_idx in range(len(valid_middle_frames)):\n",
    "            middle_frame = valid_middle_frames[mid_idx]\n",
    "            for frame_offset in range(intensities.shape[0]):\n",
    "                for ch in range(num_channels):\n",
    "                    results_list.append(\n",
    "                        (\n",
    "                            event_id,\n",
    "                            start_frame + frame_offset,\n",
    "                            intensities[frame_offset, mid_idx, ch],\n",
    "                            \"intensity_mean-\" + str(ch),\n",
    "                            middle_frame,\n",
    "                        )\n",
    "                    )\n",
    "        if progress_proxy is not None:\n",
    "            progress_proxy.update(1)\n",
    "\n",
    "    return results_list\n",
    "\n",
    "\n",
    "def stackreg_progress_callback(current_iteration, end_iteration):\n",
    "    progress = current_iteration / end_iteration * 100\n",
    "\n",
    "    if progress < 100:\n",
    "        print(\" \" * 100, end=\"\\r\")\n",
    "    print(f\"StackReg: {progress:.2f}% complete\", end=\"\\r\")\n",
    "    # clear stdout buffer"
   ]
  },
  {
   "cell_type": "markdown",
   "id": "1283cda88c8261a2",
   "metadata": {
    "collapsed": false
   },
   "source": [
    "# Load the raw data"
   ]
  },
  {
   "cell_type": "code",
   "execution_count": null,
   "id": "52ac184f7154a1a4",
   "metadata": {
    "ExecuteTime": {
     "end_time": "2024-01-19T12:09:03.877343Z",
     "start_time": "2024-01-19T12:09:01.631105Z"
    },
    "collapsed": false
   },
   "outputs": [],
   "source": [
    "raw_data_lifeact_myosin_rgbd = io.imread(os.path.join(DIR_IN, \"LA_mNeonGreen_MLC_miRFP703_2x_rGBD_dTomato_TIRF.tiff\"))"
   ]
  },
  {
   "cell_type": "markdown",
   "id": "435f39b6114faaca",
   "metadata": {
    "collapsed": false
   },
   "source": [
    "## Extract the individual channels and perform histogram matching to account for photobleaching"
   ]
  },
  {
   "cell_type": "code",
   "execution_count": null,
   "id": "d5c6820783db94f7",
   "metadata": {
    "ExecuteTime": {
     "end_time": "2024-01-19T12:10:01.427701Z",
     "start_time": "2024-01-19T12:09:04.010695Z"
    },
    "collapsed": false
   },
   "outputs": [],
   "source": [
    "myosin_bl = []\n",
    "rGBD_bl = []\n",
    "actin_bl = []\n",
    "\n",
    "# extract the individual channels\n",
    "myosin = raw_data_lifeact_myosin_rgbd[..., 1]\n",
    "rGBD = raw_data_lifeact_myosin_rgbd[..., 2]\n",
    "actin = raw_data_lifeact_myosin_rgbd[..., 0]\n",
    "\n",
    "# use first frame as reference for histogram matching\n",
    "reference_myosin = myosin[0]\n",
    "reference_rGBD = rGBD[0]\n",
    "reference_actin = actin[0]\n",
    "\n",
    "# perform histogram matching\n",
    "myosin_bl.append(np.stack([match_histogram(img, reference_myosin) for img in tqdm(myosin)]))\n",
    "rGBD_bl.append(np.stack([match_histogram(img, reference_rGBD) for img in tqdm(rGBD)]))\n",
    "actin_bl.append(np.stack([match_histogram(img, reference_actin) for img in tqdm(actin)]))\n",
    "myosin_bl = np.concatenate(myosin_bl)\n",
    "rGBD_bl = np.concatenate(rGBD_bl)\n",
    "actin_bl = np.concatenate(actin_bl)"
   ]
  },
  {
   "cell_type": "markdown",
   "id": "22409f26",
   "metadata": {},
   "source": [
    "## Perform image registration"
   ]
  },
  {
   "cell_type": "code",
   "execution_count": null,
   "id": "9dbbb0dc",
   "metadata": {},
   "outputs": [],
   "source": [
    "sr = StackReg(StackReg.RIGID_BODY)\n",
    "\n",
    "tmats = sr.register_stack(actin_bl, reference=\"previous\", progress_callback=stackreg_progress_callback)\n",
    "# transform using the same transformation matrix as for actin\n",
    "actin_reg = sr.transform_stack(actin_bl)\n",
    "myosin_reg = sr.transform_stack(myosin_bl)\n",
    "rGBD_reg = sr.transform_stack(rGBD_bl)"
   ]
  },
  {
   "cell_type": "markdown",
   "id": "bd51f3cd",
   "metadata": {},
   "source": [
    "## Perform Flatfield Correction"
   ]
  },
  {
   "cell_type": "code",
   "execution_count": null,
   "id": "296673bf",
   "metadata": {},
   "outputs": [],
   "source": [
    "from skimage.util import img_as_uint\n",
    "\n",
    "basic_myosin = BaSiC(smoothness_flatfield=5, max_workers=8)\n",
    "basic_myosin.fit(myosin_reg[:30])\n",
    "\n",
    "basic_rGBD = BaSiC(smoothness_flatfield=5, max_workers=8)\n",
    "basic_rGBD.fit(rGBD_reg[:30])\n",
    "\n",
    "basic_actin = BaSiC(smoothness_flatfield=5, max_workers=8)\n",
    "basic_actin.fit(actin_reg[:30])"
   ]
  },
  {
   "cell_type": "markdown",
   "id": "3827fc71",
   "metadata": {},
   "source": [
    "## Show estimated flatfield image"
   ]
  },
  {
   "cell_type": "code",
   "execution_count": null,
   "id": "89eaf010",
   "metadata": {},
   "outputs": [],
   "source": [
    "fig, axes = plt.subplots(3, 2, figsize=(9, 9))\n",
    "for ax, img, b in zip(axes, [myosin_bl, rGBD_bl, actin_bl], [basic_myosin, basic_rGBD, basic_actin]):\n",
    "    ax[0].set_title(\"Raw\")\n",
    "    ax[0].imshow(img[0])\n",
    "    ax[1].set_title(\"Flatfield\")\n",
    "    ax[1].imshow(b.flatfield)"
   ]
  },
  {
   "cell_type": "markdown",
   "id": "6cc3f7b2",
   "metadata": {},
   "source": [
    "## Apply correction and show corrected image"
   ]
  },
  {
   "cell_type": "code",
   "execution_count": null,
   "id": "21a5645f",
   "metadata": {},
   "outputs": [],
   "source": [
    "ff_filtered_myosin = ndimage.gaussian_filter(basic_myosin.flatfield, 10)\n",
    "ff_filtered_rGBD = ndimage.gaussian_filter(basic_rGBD.flatfield, 10)\n",
    "ff_filtered_actin = ndimage.gaussian_filter(basic_actin.flatfield, 10)\n",
    "\n",
    "myosin_corrected = correct_flatfield(myosin_reg[0], ff_filtered_myosin, basic_myosin.darkfield)\n",
    "rGBD_corrected = correct_flatfield(rGBD_reg[0], ff_filtered_rGBD, basic_rGBD.darkfield)\n",
    "actin_corrected = correct_flatfield(actin_reg[0], ff_filtered_actin, basic_actin.darkfield)\n",
    "\n",
    "fig, axes = plt.subplots(3, 3, figsize=(9, 9))\n",
    "for ax, ori, ff, ori_corr in zip(\n",
    "    axes,\n",
    "    [myosin[0], rGBD[0], actin[0]],\n",
    "    [ff_filtered_myosin, ff_filtered_rGBD, ff_filtered_actin],\n",
    "    [myosin_corrected, rGBD_corrected, actin_corrected],\n",
    "):\n",
    "    ax[0].imshow(ori)\n",
    "    ax[1].imshow(ff)\n",
    "    ax[2].imshow(ori_corr)"
   ]
  },
  {
   "cell_type": "code",
   "execution_count": null,
   "id": "417c9ec4",
   "metadata": {},
   "outputs": [],
   "source": [
    "# apply flatfield correction to the entire stack\n",
    "myosin_corrected = correct_flatfield_stack(myosin_reg, ff_filtered_myosin, basic_myosin.darkfield)\n",
    "rGBD_corrected = correct_flatfield_stack(rGBD_reg, ff_filtered_rGBD, basic_rGBD.darkfield)\n",
    "actin_corrected = correct_flatfield_stack(actin_reg, ff_filtered_actin, basic_actin.darkfield)"
   ]
  },
  {
   "cell_type": "code",
   "execution_count": 16,
   "id": "c7ab2264e7c226ff",
   "metadata": {
    "ExecuteTime": {
     "end_time": "2024-01-19T12:10:05.331784Z",
     "start_time": "2024-01-19T12:10:01.506303Z"
    },
    "collapsed": false
   },
   "outputs": [],
   "source": [
    "binned_actin = blockwise_median(actin_corrected, (1, 2, 2))\n",
    "binned_actin_alot = blockwise_median(actin_corrected, (1, 2, 2))"
   ]
  },
  {
   "cell_type": "code",
   "execution_count": null,
   "id": "18efb8cd",
   "metadata": {},
   "outputs": [],
   "source": [
    "all_masks = []\n",
    "\n",
    "# model = models.Cellpose(gpu=True, model_type='cyto3')\n",
    "model = models.CellposeModel(gpu=True, pretrained_model=os.path.join(DIR_MISC, \"CP_20250220_183443\"))\n",
    "for idx, i in enumerate(actin_corrected):\n",
    "    masks = model.eval(i, channels=[0, 0])[0]\n",
    "    all_masks.append(masks)\n",
    "\n",
    "io.imsave(\n",
    "    os.path.join(DIR_IN, \"cellpose_segmentation.tiff\"), np.stack(all_masks), check_contrast=False, compression=\"zlib\"\n",
    ")"
   ]
  },
  {
   "cell_type": "markdown",
   "id": "4da89c3044abe90a",
   "metadata": {
    "collapsed": false
   },
   "source": [
    "## Remove the background from the actin channel "
   ]
  },
  {
   "cell_type": "code",
   "execution_count": 17,
   "id": "200044a36fb1bb13",
   "metadata": {
    "ExecuteTime": {
     "end_time": "2024-01-19T12:18:38.217399Z",
     "start_time": "2024-01-19T12:18:13.799062Z"
    },
    "collapsed": false
   },
   "outputs": [],
   "source": [
    "actin_bg = remove_image_background(binned_actin, size=(100, 1, 1), filter_type=\"median\", crop_time_axis=True)\n",
    "actin_bg = np.where(actin_bg < 0, 0, actin_bg)"
   ]
  },
  {
   "cell_type": "markdown",
   "id": "dd8042d6371fdf2",
   "metadata": {
    "collapsed": false
   },
   "source": [
    "## Perform Gaussian filtering on the background-subtracted actin channel to remove noise"
   ]
  },
  {
   "cell_type": "code",
   "execution_count": 18,
   "id": "505e6cd97ecfe309",
   "metadata": {
    "ExecuteTime": {
     "end_time": "2024-01-19T12:18:38.453109Z",
     "start_time": "2024-01-19T12:18:38.221708Z"
    },
    "collapsed": false
   },
   "outputs": [],
   "source": [
    "filtered_actin_bg = gaussian(actin_bg, sigma=2)"
   ]
  },
  {
   "cell_type": "code",
   "execution_count": null,
   "id": "e22b8cc6",
   "metadata": {},
   "outputs": [],
   "source": [
    "from scipy.ndimage import distance_transform_edt\n",
    "from skimage.transform import resize\n",
    "\n",
    "# upscale the mask\n",
    "masks = io.imread(os.path.join(DIR_IN, \"cellpose_segmentation.tiff\"))\n",
    "rescaled = resize(np.stack(masks)[50:-50], actin_bg.shape, order=0)\n",
    "# apply distance transfomration to the mask\n",
    "distance_transform = distance_transform_edt(rescaled)\n",
    "# remove everything but the edge of the mask\n",
    "edge_mask = np.where(distance_transform > 5, 1, 0)\n",
    "# apply the edge mask to the background subtracted actin image\n",
    "actin_bg_edge = filtered_actin_bg * edge_mask"
   ]
  },
  {
   "cell_type": "markdown",
   "id": "7c2cb59699bb639",
   "metadata": {
    "collapsed": false
   },
   "source": [
    "## Track events"
   ]
  },
  {
   "cell_type": "code",
   "execution_count": 20,
   "id": "81eb25abedf14c7c",
   "metadata": {
    "ExecuteTime": {
     "end_time": "2024-01-19T12:18:43.111974Z",
     "start_time": "2024-01-19T12:18:38.499524Z"
    },
    "collapsed": false
   },
   "outputs": [
    {
     "name": "stderr",
     "output_type": "stream",
     "text": [
      "100%|██████████| 621/621 [00:18<00:00, 32.81it/s]\n"
     ]
    }
   ],
   "source": [
    "tracked_waves, lineage = track_events_image(\n",
    "    actin_bg_edge > 25,\n",
    "    min_clustersize=9,\n",
    "    eps=1.5,\n",
    "    eps_prev=1,\n",
    "    predictor=True,\n",
    "    n_prev=3,\n",
    "    downsample=1,\n",
    "    remove_small_clusters=True,\n",
    "    allow_merges=True,\n",
    "    allow_splits=True,\n",
    "    stability_threshold=6,\n",
    "    clustering_method=\"dbscan\",\n",
    ")"
   ]
  },
  {
   "cell_type": "markdown",
   "id": "0ece4ea5",
   "metadata": {},
   "source": [
    "## Create Events remapped to lineages and generate annotated RGB stack"
   ]
  },
  {
   "cell_type": "code",
   "execution_count": null,
   "id": "728fc8ea",
   "metadata": {},
   "outputs": [],
   "source": [
    "all_lineages_data = []\n",
    "\n",
    "data = []\n",
    "lineage_filtered = lineage.filter(\"lineage_duration\", 3)\n",
    "events_filtered = lineage_filtered.reflect(tracked_waves)\n",
    "# Traverse nodes and aggregate lineage_id and event_id\n",
    "for node in lineage_filtered.nodes.values():\n",
    "    lid = node.lineage_id\n",
    "    event_id = node.cluster_id\n",
    "    data.append(\n",
    "        {\n",
    "            \"lineage_id\": lid,\n",
    "            \"event_id\": event_id,\n",
    "        }\n",
    "    )\n",
    "\n",
    "lineages_df = pd.DataFrame(data)\n",
    "\n",
    "data = []\n",
    "# create a lineage/label df\n",
    "for i, frame_data in enumerate(events_filtered):\n",
    "    for event in regionprops(frame_data):\n",
    "        if event.label == 0:\n",
    "            continue\n",
    "        data.append(\n",
    "            {\n",
    "                \"timepoint\": i,\n",
    "                \"event\": event.label,\n",
    "                \"lineage\": lineage_filtered.nodes[event.label].lineage_id,\n",
    "                \"x\": event.centroid[1],\n",
    "                \"y\": event.centroid[0],\n",
    "                \"bbox-0\": event.bbox[0],\n",
    "                \"bbox-1\": event.bbox[1],\n",
    "                \"bbox-2\": event.bbox[2],\n",
    "                \"bbox-3\": event.bbox[3],\n",
    "            }\n",
    "        )\n",
    "\n",
    "lineage_df = pd.DataFrame(data)\n",
    "\n",
    "# remap the segmentation\n",
    "events_lineage = remap_segmentation(\n",
    "    lineage_df, events_filtered, timepoint_column=\"timepoint\", label_column=\"event\", measure_column=\"lineage\"\n",
    ")"
   ]
  },
  {
   "cell_type": "code",
   "execution_count": null,
   "id": "5d4c19bb",
   "metadata": {},
   "outputs": [],
   "source": [
    "if napari.current_viewer() is None:\n",
    "    viewer = napari.Viewer()\n",
    "\n",
    "viewer.add_image(\n",
    "    binned_actin[50:-50],\n",
    "    name=\"binned_actin\",\n",
    "    colormap=\"gray_r\",\n",
    "    contrast_limits=[binned_actin.min() * 1.1, binned_actin.max() * 0.5],\n",
    ")\n",
    "lineage_id_layer = viewer.add_labels(events_lineage, name=\"lineages\", colormap=cmap)\n",
    "\n",
    "lineage_id_layer.new_colormap(seed=0)\n",
    "lineage_id_layer.contour = 2\n",
    "lineage_id_layer.opacity = 1\n",
    "rgb_stack = render_as_rgb(viewer, 0, 4)\n",
    "\n",
    "# hide the lineage layer and render the lifeact image alone\n",
    "lineage_id_layer.visible = False\n",
    "rgb_lifeact = render_as_rgb(viewer, 0, 4)\n",
    "viewer.close()"
   ]
  },
  {
   "cell_type": "code",
   "execution_count": null,
   "id": "3347ec7e",
   "metadata": {},
   "outputs": [],
   "source": [
    "alpha_box = 0.5  # Transparency for bounding box\n",
    "alpha_label = 0.5  # Transparency for label background\n",
    "outline_color = (255, 255, 255)  # White outline\n",
    "label_bg_color = (255, 255, 255)  # White background for label\n",
    "text_color = (0, 0, 0, 255)  # Black text\n",
    "annotated_stack = rgb_stack.copy()\n",
    "for i, frame in enumerate(annotated_stack):\n",
    "    lineage_df_frame = lineage_df[lineage_df[\"timepoint\"] == i]\n",
    "\n",
    "    overlay = frame.copy()\n",
    "\n",
    "    for _, row in lineage_df_frame.iterrows():\n",
    "        minr = int(row[\"bbox-0\"])\n",
    "        minc = int(row[\"bbox-1\"])\n",
    "        maxr = int(row[\"bbox-2\"])\n",
    "        maxc = int(row[\"bbox-3\"])\n",
    "\n",
    "        # Scale due to upsampling\n",
    "        scale = 4\n",
    "        minr, minc, maxr, maxc = (val * scale for val in (minr, minc, maxr, maxc))\n",
    "\n",
    "        x_min, y_min = minc, minr\n",
    "        x_max, y_max = maxc, maxr\n",
    "\n",
    "        cv2.rectangle(overlay, (x_min, y_min), (x_max, y_max), outline_color, thickness=2)\n",
    "\n",
    "        label = f\"ID:{row['event']:.0f}\"\n",
    "        font = cv2.FONT_HERSHEY_SIMPLEX\n",
    "        font_scale = 0.7\n",
    "        text_thickness = 2\n",
    "\n",
    "        (text_width, text_height), baseline = cv2.getTextSize(label, font, font_scale, text_thickness)\n",
    "        label_height = text_height + baseline\n",
    "\n",
    "        label_x1 = x_min\n",
    "        label_y2 = y_min\n",
    "        label_x2 = x_min + text_width\n",
    "        label_y1 = label_y2 - label_height\n",
    "\n",
    "        label_y1 = max(label_y1, 0)\n",
    "\n",
    "        cv2.rectangle(overlay, (label_x1, label_y1), (label_x2, label_y2), label_bg_color, -1)\n",
    "\n",
    "    cv2.addWeighted(overlay, alpha_box, frame, 1 - alpha_box, 0, frame)\n",
    "\n",
    "    for _, row in lineage_df_frame.iterrows():\n",
    "        label = f\"ID:{row['event']:.0f}\"\n",
    "        font_scale = 0.7\n",
    "        text_thickness = 1\n",
    "\n",
    "        minr = int(row[\"bbox-0\"])\n",
    "        minc = int(row[\"bbox-1\"])\n",
    "        maxr = int(row[\"bbox-2\"])\n",
    "        maxc = int(row[\"bbox-3\"])\n",
    "        scale = 4\n",
    "        minr, minc, maxr, maxc = (val * scale for val in (minr, minc, maxr, maxc))\n",
    "\n",
    "        x_min, y_min = minc, minr\n",
    "\n",
    "        (text_width, text_height), baseline = cv2.getTextSize(label, font, font_scale, text_thickness)\n",
    "        label_height = text_height + baseline\n",
    "        label_x1 = x_min\n",
    "        label_y2 = y_min\n",
    "        label_x2 = x_min + text_width\n",
    "        label_y1 = label_y2 - label_height\n",
    "        label_y1 = max(label_y1, 0)\n",
    "\n",
    "        text_x = label_x1\n",
    "        text_y = label_y2 - baseline\n",
    "\n",
    "        cv2.putText(\n",
    "            frame,\n",
    "            label,\n",
    "            (text_x, text_y),\n",
    "            cv2.FONT_HERSHEY_SIMPLEX,\n",
    "            font_scale,\n",
    "            text_color,\n",
    "            text_thickness,\n",
    "            cv2.LINE_AA,\n",
    "        )"
   ]
  },
  {
   "cell_type": "code",
   "execution_count": 22,
   "id": "4b3b009161ab1032",
   "metadata": {
    "ExecuteTime": {
     "end_time": "2024-01-19T12:19:03.879514Z",
     "start_time": "2024-01-19T12:19:01.071597Z"
    },
    "collapsed": false
   },
   "outputs": [],
   "source": [
    "events_upscaled = []\n",
    "for t in events_filtered:\n",
    "    t_img = upscale_image(t, 2)\n",
    "    events_upscaled.append(t_img)\n",
    "events_upscaled = np.stack(events_upscaled)\n",
    "\n",
    "events_lineage_upscaled = []\n",
    "for t in events_lineage:\n",
    "    t_img = upscale_image(t, 2)\n",
    "    events_lineage_upscaled.append(t_img)\n",
    "events_lineage_upscaled = np.stack(events_lineage_upscaled)"
   ]
  },
  {
   "cell_type": "code",
   "execution_count": null,
   "id": "bf915c41",
   "metadata": {},
   "outputs": [],
   "source": [
    "viewer = napari.Viewer()\n",
    "\n",
    "viewer.add_image(actin_corrected[50:-50], name=\"actin\", colormap=\"gray_r\")\n",
    "viewer.add_labels(events_upscaled, name=\"events_upscaled\")\n",
    "viewer.add_labels(events_lineage_upscaled, name=\"lineages_upscaled\", colormap=cmap)"
   ]
  },
  {
   "cell_type": "markdown",
   "id": "31556cc9",
   "metadata": {},
   "source": [
    "## Save intermediate Data"
   ]
  },
  {
   "cell_type": "code",
   "execution_count": null,
   "id": "73fcf63f",
   "metadata": {},
   "outputs": [],
   "source": [
    "io.imsave(os.path.join(DIR_OUT_DATA, \"actin_corrected.tif\"), actin_corrected)\n",
    "io.imsave(os.path.join(DIR_OUT_DATA, \"myosin_corrected.tif\"), myosin_corrected)\n",
    "io.imsave(os.path.join(DIR_OUT_DATA, \"rGBD_corrected.tif\"), rGBD_corrected)\n",
    "io.imsave(os.path.join(DIR_OUT_DATA, \"tracked_waves.tif\"), events_upscaled)\n",
    "io.imsave(os.path.join(DIR_OUT_DATA, \"tracked_waves_rgb.tif\"), annotated_stack)\n",
    "io.imsave(os.path.join(DIR_OUT_DATA, \"lifeact_rgb.tif\"), rgb_lifeact)"
   ]
  },
  {
   "cell_type": "markdown",
   "id": "c8c54ed31406bd13",
   "metadata": {
    "collapsed": false
   },
   "source": [
    "# Extract windowed intensity values for all channels"
   ]
  },
  {
   "cell_type": "code",
   "execution_count": null,
   "id": "119d4af1",
   "metadata": {},
   "outputs": [],
   "source": [
    "# load the data using os.path.join\n",
    "actin_corrected = io.imread(os.path.join(DIR_CORE, DIR_OUT_DATA, \"actin_corrected.tif\"))\n",
    "myosin_corrected = io.imread(os.path.join(DIR_CORE, DIR_OUT_DATA, \"myosin_corrected.tif\"))\n",
    "rGBD_corrected = io.imread(os.path.join(DIR_CORE, DIR_OUT_DATA, \"rGBD_corrected.tif\"))\n",
    "events_upscaled = io.imread(os.path.join(DIR_CORE, DIR_OUT_DATA, \"tracked_waves.tif\"))"
   ]
  },
  {
   "cell_type": "code",
   "execution_count": null,
   "id": "159b5afe",
   "metadata": {},
   "outputs": [],
   "source": [
    "viewer = napari.Viewer()\n",
    "\n",
    "viewer.add_image(actin_corrected[50:-50], name=\"actin\", scale=(1, PIXEL_SIZE, PIXEL_SIZE))\n",
    "viewer.add_image(myosin_corrected[50:-50], name=\"myosin\", scale=(1, PIXEL_SIZE, PIXEL_SIZE))\n",
    "viewer.add_image(rGBD_corrected[50:-50], name=\"rGBD\", scale=(1, PIXEL_SIZE, PIXEL_SIZE))\n",
    "viewer.add_labels(events_upscaled, name=\"events_upscaled\", scale=(1, PIXEL_SIZE, PIXEL_SIZE))"
   ]
  },
  {
   "cell_type": "code",
   "execution_count": null,
   "id": "0b266dd7",
   "metadata": {},
   "outputs": [
    {
     "data": {
      "application/vnd.jupyter.widget-view+json": {
       "model_id": "430702d60a014ad3a69ed7914bb929a9",
       "version_major": 2,
       "version_minor": 0
      },
      "text/plain": [
       "  0%|          | 0/961 [00:00<?, ?it/s]"
      ]
     },
     "metadata": {},
     "output_type": "display_data"
    }
   ],
   "source": [
    "event_ids = np.unique(events_upscaled)[1:]  # Assuming 0 is background\n",
    "\n",
    "# Run the analysis\n",
    "with ProgressBar(total=len(event_ids)) as pb:\n",
    "    results_list = analyze_events(\n",
    "        events_upscaled.astype(float),\n",
    "        np.stack([actin_corrected, myosin_corrected, rGBD_corrected], axis=-1, dtype=float)[50:-50],\n",
    "        event_ids,\n",
    "        WINDOW_SIZE,\n",
    "        min_duration=20,\n",
    "        progress_proxy=pb,\n",
    "        valid_windows_only=True,\n",
    "    )"
   ]
  },
  {
   "cell_type": "code",
   "execution_count": 48,
   "id": "92497b08",
   "metadata": {},
   "outputs": [
    {
     "name": "stdout",
     "output_type": "stream",
     "text": [
      "Number of events analyzed: 161\n"
     ]
    },
    {
     "data": {
      "application/vnd.microsoft.datawrangler.viewer.v0+json": {
       "columns": [
        {
         "name": "index",
         "rawType": "int64",
         "type": "integer"
        },
        {
         "name": "event_id",
         "rawType": "int64",
         "type": "integer"
        },
        {
         "name": "frame",
         "rawType": "int64",
         "type": "integer"
        },
        {
         "name": "middle_frame",
         "rawType": "int64",
         "type": "integer"
        },
        {
         "name": "intensity_mean-0",
         "rawType": "float64",
         "type": "float"
        },
        {
         "name": "intensity_mean-1",
         "rawType": "float64",
         "type": "float"
        },
        {
         "name": "intensity_mean-2",
         "rawType": "float64",
         "type": "float"
        },
        {
         "name": "frame_count",
         "rawType": "int64",
         "type": "integer"
        }
       ],
       "conversionMethod": "pd.DataFrame",
       "ref": "09079781-778d-4ee3-97a8-197037322cd6",
       "rows": [
        [
         "0",
         "66",
         "31",
         "100",
         "0.3474075035530817",
         "0.25781958710881603",
         "0.1193330353117581",
         "0"
        ],
        [
         "1",
         "66",
         "31",
         "101",
         "0.3726635323049532",
         "0.3617032218043773",
         "0.0966164489635879",
         "0"
        ],
        [
         "2",
         "66",
         "31",
         "102",
         "0.3225170084117517",
         "0.46161300192251853",
         "-0.10686326419165648",
         "0"
        ],
        [
         "3",
         "66",
         "31",
         "103",
         "0.4116965099937431",
         "0.32784151034782905",
         "-0.41138634430156507",
         "0"
        ],
        [
         "4",
         "66",
         "31",
         "104",
         "0.43102060340767934",
         "0.24249114217144474",
         "-0.4334608923756702",
         "0"
        ]
       ],
       "shape": {
        "columns": 7,
        "rows": 5
       }
      },
      "text/html": [
       "<div>\n",
       "<style scoped>\n",
       "    .dataframe tbody tr th:only-of-type {\n",
       "        vertical-align: middle;\n",
       "    }\n",
       "\n",
       "    .dataframe tbody tr th {\n",
       "        vertical-align: top;\n",
       "    }\n",
       "\n",
       "    .dataframe thead th {\n",
       "        text-align: right;\n",
       "    }\n",
       "</style>\n",
       "<table border=\"1\" class=\"dataframe\">\n",
       "  <thead>\n",
       "    <tr style=\"text-align: right;\">\n",
       "      <th>channel</th>\n",
       "      <th>event_id</th>\n",
       "      <th>frame</th>\n",
       "      <th>middle_frame</th>\n",
       "      <th>intensity_mean-0</th>\n",
       "      <th>intensity_mean-1</th>\n",
       "      <th>intensity_mean-2</th>\n",
       "      <th>frame_count</th>\n",
       "    </tr>\n",
       "  </thead>\n",
       "  <tbody>\n",
       "    <tr>\n",
       "      <th>0</th>\n",
       "      <td>66</td>\n",
       "      <td>31</td>\n",
       "      <td>100</td>\n",
       "      <td>0.347408</td>\n",
       "      <td>0.257820</td>\n",
       "      <td>0.119333</td>\n",
       "      <td>0</td>\n",
       "    </tr>\n",
       "    <tr>\n",
       "      <th>1</th>\n",
       "      <td>66</td>\n",
       "      <td>31</td>\n",
       "      <td>101</td>\n",
       "      <td>0.372664</td>\n",
       "      <td>0.361703</td>\n",
       "      <td>0.096616</td>\n",
       "      <td>0</td>\n",
       "    </tr>\n",
       "    <tr>\n",
       "      <th>2</th>\n",
       "      <td>66</td>\n",
       "      <td>31</td>\n",
       "      <td>102</td>\n",
       "      <td>0.322517</td>\n",
       "      <td>0.461613</td>\n",
       "      <td>-0.106863</td>\n",
       "      <td>0</td>\n",
       "    </tr>\n",
       "    <tr>\n",
       "      <th>3</th>\n",
       "      <td>66</td>\n",
       "      <td>31</td>\n",
       "      <td>103</td>\n",
       "      <td>0.411697</td>\n",
       "      <td>0.327842</td>\n",
       "      <td>-0.411386</td>\n",
       "      <td>0</td>\n",
       "    </tr>\n",
       "    <tr>\n",
       "      <th>4</th>\n",
       "      <td>66</td>\n",
       "      <td>31</td>\n",
       "      <td>104</td>\n",
       "      <td>0.431021</td>\n",
       "      <td>0.242491</td>\n",
       "      <td>-0.433461</td>\n",
       "      <td>0</td>\n",
       "    </tr>\n",
       "  </tbody>\n",
       "</table>\n",
       "</div>"
      ],
      "text/plain": [
       "channel  event_id  frame  middle_frame  intensity_mean-0  intensity_mean-1  \\\n",
       "0              66     31           100          0.347408          0.257820   \n",
       "1              66     31           101          0.372664          0.361703   \n",
       "2              66     31           102          0.322517          0.461613   \n",
       "3              66     31           103          0.411697          0.327842   \n",
       "4              66     31           104          0.431021          0.242491   \n",
       "\n",
       "channel  intensity_mean-2  frame_count  \n",
       "0                0.119333            0  \n",
       "1                0.096616            0  \n",
       "2               -0.106863            0  \n",
       "3               -0.411386            0  \n",
       "4               -0.433461            0  "
      ]
     },
     "execution_count": 48,
     "metadata": {},
     "output_type": "execute_result"
    }
   ],
   "source": [
    "# Post-process the results, smooths, normalizes and detrends the intensities\n",
    "df = post_process_results(results_list, \"detrended_intensities\", filter_window_size=9)\n",
    "# subtract first frame from all frames in the frame column\n",
    "df[\"frame_count\"] = df.groupby([\"event_id\"])[\"frame\"].transform(lambda x: x - x.min())\n",
    "print(\"Number of events analyzed:\", len(df[\"event_id\"].unique()))\n",
    "df.head()"
   ]
  },
  {
   "cell_type": "markdown",
   "id": "c1cd20a9",
   "metadata": {},
   "source": [
    "## Plot Results"
   ]
  },
  {
   "cell_type": "code",
   "execution_count": null,
   "id": "3a6775660f90a0c4",
   "metadata": {
    "ExecuteTime": {
     "end_time": "2024-01-19T13:13:00.759847Z",
     "start_time": "2024-01-19T13:12:59.442701Z"
    },
    "collapsed": false
   },
   "outputs": [
    {
     "name": "stderr",
     "output_type": "stream",
     "text": [
      "INFO:fontTools.subset:maxp pruned\n",
      "INFO:fontTools.subset:LTSH dropped\n",
      "INFO:fontTools.subset:cmap pruned\n",
      "INFO:fontTools.subset:kern dropped\n",
      "INFO:fontTools.subset:post pruned\n",
      "INFO:fontTools.subset:PCLT dropped\n",
      "INFO:fontTools.subset:JSTF dropped\n",
      "INFO:fontTools.subset:meta dropped\n",
      "INFO:fontTools.subset:DSIG dropped\n",
      "INFO:fontTools.subset:GPOS pruned\n",
      "INFO:fontTools.subset:GSUB pruned\n",
      "INFO:fontTools.subset:glyf pruned\n",
      "INFO:fontTools.subset:Added gid0 to subset\n",
      "INFO:fontTools.subset:Added first four glyphs to subset\n",
      "INFO:fontTools.subset:Closing glyph list over 'GSUB': 38 glyphs before\n",
      "INFO:fontTools.subset:Glyph names: ['.notdef', 'B', 'D', 'E', 'G', 'I', 'T', 'a', 'bracketleft', 'bracketright', 'c', 'colon', 'e', 'eight', 'five', 'four', 'glyph00001', 'glyph00002', 'i', 'm', 'minus', 'n', 'nine', 'o', 'one', 'period', 'r', 's', 'seven', 'six', 'space', 't', 'three', 'two', 'u', 'v', 'y', 'zero']\n",
      "INFO:fontTools.subset:Glyph IDs:   [0, 1, 2, 3, 17, 19, 20, 21, 22, 23, 24, 25, 26, 27, 28, 29, 37, 39, 40, 42, 44, 55, 62, 64, 68, 70, 72, 76, 80, 81, 82, 85, 86, 87, 88, 89, 92, 237]\n",
      "INFO:fontTools.subset:Closed glyph list over 'GSUB': 59 glyphs after\n",
      "INFO:fontTools.subset:Glyph names: ['.notdef', 'B', 'D', 'E', 'G', 'I', 'T', 'a', 'bracketleft', 'bracketright', 'c', 'colon', 'e', 'eight', 'five', 'four', 'glyph00001', 'glyph00002', 'glyph03464', 'glyph03674', 'glyph03675', 'glyph03676', 'glyph03677', 'glyph03678', 'glyph03679', 'glyph03680', 'glyph03681', 'glyph03682', 'glyph03683', 'i', 'm', 'minus', 'n', 'nine', 'o', 'one', 'period', 'r', 's', 'seven', 'six', 'space', 't', 'three', 'two', 'u', 'uni00B2', 'uni00B3', 'uni00B9', 'uni2070', 'uni2074', 'uni2075', 'uni2076', 'uni2077', 'uni2078', 'uni2079', 'v', 'y', 'zero']\n",
      "INFO:fontTools.subset:Glyph IDs:   [0, 1, 2, 3, 17, 19, 20, 21, 22, 23, 24, 25, 26, 27, 28, 29, 37, 39, 40, 42, 44, 55, 62, 64, 68, 70, 72, 76, 80, 81, 82, 85, 86, 87, 88, 89, 92, 237, 239, 240, 241, 3464, 3674, 3675, 3676, 3677, 3678, 3679, 3680, 3681, 3682, 3683, 3684, 3685, 3686, 3774, 3775, 3776, 3777]\n",
      "INFO:fontTools.subset:Closing glyph list over 'glyf': 59 glyphs before\n",
      "INFO:fontTools.subset:Glyph names: ['.notdef', 'B', 'D', 'E', 'G', 'I', 'T', 'a', 'bracketleft', 'bracketright', 'c', 'colon', 'e', 'eight', 'five', 'four', 'glyph00001', 'glyph00002', 'glyph03464', 'glyph03674', 'glyph03675', 'glyph03676', 'glyph03677', 'glyph03678', 'glyph03679', 'glyph03680', 'glyph03681', 'glyph03682', 'glyph03683', 'i', 'm', 'minus', 'n', 'nine', 'o', 'one', 'period', 'r', 's', 'seven', 'six', 'space', 't', 'three', 'two', 'u', 'uni00B2', 'uni00B3', 'uni00B9', 'uni2070', 'uni2074', 'uni2075', 'uni2076', 'uni2077', 'uni2078', 'uni2079', 'v', 'y', 'zero']\n",
      "INFO:fontTools.subset:Glyph IDs:   [0, 1, 2, 3, 17, 19, 20, 21, 22, 23, 24, 25, 26, 27, 28, 29, 37, 39, 40, 42, 44, 55, 62, 64, 68, 70, 72, 76, 80, 81, 82, 85, 86, 87, 88, 89, 92, 237, 239, 240, 241, 3464, 3674, 3675, 3676, 3677, 3678, 3679, 3680, 3681, 3682, 3683, 3684, 3685, 3686, 3774, 3775, 3776, 3777]\n",
      "INFO:fontTools.subset:Closed glyph list over 'glyf': 66 glyphs after\n",
      "INFO:fontTools.subset:Glyph names: ['.notdef', 'B', 'D', 'E', 'G', 'I', 'T', 'a', 'bracketleft', 'bracketright', 'c', 'colon', 'e', 'eight', 'five', 'four', 'glyph00001', 'glyph00002', 'glyph03384', 'glyph03388', 'glyph03389', 'glyph03390', 'glyph03391', 'glyph03392', 'glyph03393', 'glyph03464', 'glyph03674', 'glyph03675', 'glyph03676', 'glyph03677', 'glyph03678', 'glyph03679', 'glyph03680', 'glyph03681', 'glyph03682', 'glyph03683', 'i', 'm', 'minus', 'n', 'nine', 'o', 'one', 'period', 'r', 's', 'seven', 'six', 'space', 't', 'three', 'two', 'u', 'uni00B2', 'uni00B3', 'uni00B9', 'uni2070', 'uni2074', 'uni2075', 'uni2076', 'uni2077', 'uni2078', 'uni2079', 'v', 'y', 'zero']\n",
      "INFO:fontTools.subset:Glyph IDs:   [0, 1, 2, 3, 17, 19, 20, 21, 22, 23, 24, 25, 26, 27, 28, 29, 37, 39, 40, 42, 44, 55, 62, 64, 68, 70, 72, 76, 80, 81, 82, 85, 86, 87, 88, 89, 92, 237, 239, 240, 241, 3384, 3388, 3389, 3390, 3391, 3392, 3393, 3464, 3674, 3675, 3676, 3677, 3678, 3679, 3680, 3681, 3682, 3683, 3684, 3685, 3686, 3774, 3775, 3776, 3777]\n",
      "INFO:fontTools.subset:Retaining 66 glyphs\n",
      "INFO:fontTools.subset:head subsetting not needed\n",
      "INFO:fontTools.subset:hhea subsetting not needed\n",
      "INFO:fontTools.subset:maxp subsetting not needed\n",
      "INFO:fontTools.subset:OS/2 subsetting not needed\n",
      "INFO:fontTools.subset:hmtx subsetted\n",
      "INFO:fontTools.subset:VDMX subsetting not needed\n",
      "INFO:fontTools.subset:hdmx subsetted\n",
      "INFO:fontTools.subset:cmap subsetted\n",
      "INFO:fontTools.subset:fpgm subsetting not needed\n",
      "INFO:fontTools.subset:prep subsetting not needed\n",
      "INFO:fontTools.subset:cvt  subsetting not needed\n",
      "INFO:fontTools.subset:loca subsetting not needed\n",
      "INFO:fontTools.subset:post subsetted\n",
      "INFO:fontTools.subset:gasp subsetting not needed\n",
      "INFO:fontTools.subset:GDEF subsetted\n",
      "INFO:fontTools.subset:GPOS subsetted\n",
      "INFO:fontTools.subset:GSUB subsetted\n",
      "INFO:fontTools.subset:name subsetting not needed\n",
      "INFO:fontTools.subset:glyf subsetted\n",
      "INFO:fontTools.subset:head pruned\n",
      "INFO:fontTools.subset:OS/2 Unicode ranges pruned: [0, 38]\n",
      "INFO:fontTools.subset:OS/2 CodePage ranges pruned: [0]\n",
      "INFO:fontTools.subset:glyf pruned\n",
      "INFO:fontTools.subset:GDEF pruned\n",
      "INFO:fontTools.subset:GPOS pruned\n",
      "INFO:fontTools.subset:GSUB pruned\n",
      "INFO:fontTools.subset:name pruned\n"
     ]
    },
    {
     "data": {
      "image/png": "[encoded data removed]",
      "text/plain": [
       "<Figure size 600x300 with 8 Axes>"
      ]
     },
     "metadata": {},
     "output_type": "display_data"
    }
   ],
   "source": [
    "names = [\"actin\", \"myosin\", \"rGBD\"]\n",
    "colors = [\"#046735\", \"#76CDE8\", \"#7A2989\"]\n",
    "\n",
    "# Sample a random set of rows from the DataFrame\n",
    "unique_combinations = df[\"event_id\"].drop_duplicates().sample(n=50, random_state=42)\n",
    "\n",
    "# Create a 4x4 grid of plots\n",
    "fig, axes = plt.subplots(2, 4, figsize=(4, 2), sharex=True, sharey=True, dpi=150)\n",
    "axes = axes.flatten()\n",
    "\n",
    "# Iterate over each unique combination and plot\n",
    "for i, (ax, row) in enumerate(zip(axes, unique_combinations)):\n",
    "    # Filter the original DataFrame for the current combination\n",
    "    grp = df[(df[\"event_id\"] == row)]\n",
    "    grp = grp[grp[\"middle_frame\"] == grp[\"middle_frame\"].sample(1, random_state=1337).iloc[0]]\n",
    "\n",
    "    # # Plot the data\n",
    "    ax.plot(\n",
    "        (grp[\"frame_count\"] - WINDOW_SIZE) * SAMPLE_PERIOD_S / 60,\n",
    "        grp[\"intensity_mean-0\"],\n",
    "        color=colors[0],\n",
    "        label=names[0],\n",
    "        alpha=0.6,\n",
    "    )\n",
    "    ax.plot(\n",
    "        (grp[\"frame_count\"] - WINDOW_SIZE) * SAMPLE_PERIOD_S / 60,\n",
    "        grp[\"intensity_mean-1\"],\n",
    "        color=colors[1],\n",
    "        label=names[1],\n",
    "        alpha=0.6,\n",
    "    )\n",
    "    ax.plot(\n",
    "        (grp[\"frame_count\"] - WINDOW_SIZE) * SAMPLE_PERIOD_S / 60,\n",
    "        grp[\"intensity_mean-2\"],\n",
    "        color=colors[2],\n",
    "        label=names[2],\n",
    "        alpha=0.6,\n",
    "    )\n",
    "\n",
    "    ax.set_title(f\"Event: {row}\", fontsize=8)\n",
    "    # ax.set_xlim(-WINDOW_SIZE*SAMPLE_PERIOD_S/2/60, WINDOW_SIZE*SAMPLE_PERIOD_S/2/60)\n",
    "\n",
    "fig.supylabel(\"Intensity [a.u]\")\n",
    "fig.supxlabel(\"Time [min]\")\n",
    "fig.legend(labels=names)\n",
    "\n",
    "plt.tight_layout()\n",
    "plt.savefig(os.path.join(DIR_CORE, DIR_OUT_PLOT, \"sample_event.pdf\"))\n",
    "plt.show()"
   ]
  },
  {
   "cell_type": "code",
   "execution_count": null,
   "id": "3357ef7d",
   "metadata": {},
   "outputs": [
    {
     "name": "stderr",
     "output_type": "stream",
     "text": [
      "INFO:fontTools.subset:maxp pruned\n",
      "INFO:fontTools.subset:LTSH dropped\n",
      "INFO:fontTools.subset:cmap pruned\n",
      "INFO:fontTools.subset:kern dropped\n",
      "INFO:fontTools.subset:post pruned\n",
      "INFO:fontTools.subset:PCLT dropped\n",
      "INFO:fontTools.subset:JSTF dropped\n",
      "INFO:fontTools.subset:meta dropped\n",
      "INFO:fontTools.subset:DSIG dropped\n"
     ]
    },
    {
     "name": "stdout",
     "output_type": "stream",
     "text": [
      "0\n",
      "6\n",
      "6\n"
     ]
    },
    {
     "name": "stderr",
     "output_type": "stream",
     "text": [
      "INFO:fontTools.subset:GPOS pruned\n",
      "INFO:fontTools.subset:GSUB pruned\n",
      "INFO:fontTools.subset:glyf pruned\n",
      "INFO:fontTools.subset:Added gid0 to subset\n",
      "INFO:fontTools.subset:Added first four glyphs to subset\n",
      "INFO:fontTools.subset:Closing glyph list over 'GSUB': 46 glyphs before\n",
      "INFO:fontTools.subset:Glyph names: ['.notdef', 'A', 'B', 'C', 'D', 'G', 'I', 'M', 'N', 'T', 'a', 'bracketleft', 'bracketright', 'c', 'd', 'e', 'eight', 'f', 'five', 'four', 'glyph00001', 'glyph00002', 'h', 'hyphen', 'i', 'l', 'm', 'n', 'nine', 'o', 'one', 'percent', 'period', 'r', 's', 'seven', 'six', 'space', 't', 'two', 'u', 'v', 'w', 'y', 'z', 'zero']\n",
      "INFO:fontTools.subset:Glyph IDs:   [0, 1, 2, 3, 8, 16, 17, 19, 20, 21, 23, 24, 25, 26, 27, 28, 36, 37, 38, 39, 42, 44, 48, 49, 55, 62, 64, 68, 70, 71, 72, 73, 75, 76, 79, 80, 81, 82, 85, 86, 87, 88, 89, 90, 92, 93]\n",
      "INFO:fontTools.subset:Closed glyph list over 'GSUB': 65 glyphs after\n",
      "INFO:fontTools.subset:Glyph names: ['.notdef', 'A', 'B', 'C', 'D', 'G', 'I', 'M', 'N', 'T', 'a', 'bracketleft', 'bracketright', 'c', 'd', 'e', 'eight', 'f', 'five', 'four', 'glyph00001', 'glyph00002', 'glyph03464', 'glyph03674', 'glyph03675', 'glyph03676', 'glyph03678', 'glyph03679', 'glyph03680', 'glyph03681', 'glyph03682', 'glyph03683', 'h', 'hyphen', 'i', 'l', 'm', 'n', 'nine', 'o', 'one', 'percent', 'period', 'r', 's', 'seven', 'six', 'space', 't', 'two', 'u', 'uni00B2', 'uni00B9', 'uni2070', 'uni2074', 'uni2075', 'uni2076', 'uni2077', 'uni2078', 'uni2079', 'v', 'w', 'y', 'z', 'zero']\n",
      "INFO:fontTools.subset:Glyph IDs:   [0, 1, 2, 3, 8, 16, 17, 19, 20, 21, 23, 24, 25, 26, 27, 28, 36, 37, 38, 39, 42, 44, 48, 49, 55, 62, 64, 68, 70, 71, 72, 73, 75, 76, 79, 80, 81, 82, 85, 86, 87, 88, 89, 90, 92, 93, 239, 240, 3464, 3674, 3675, 3676, 3678, 3679, 3680, 3681, 3682, 3683, 3684, 3685, 3686, 3774, 3775, 3776, 3777]\n",
      "INFO:fontTools.subset:Closing glyph list over 'glyf': 65 glyphs before\n",
      "INFO:fontTools.subset:Glyph names: ['.notdef', 'A', 'B', 'C', 'D', 'G', 'I', 'M', 'N', 'T', 'a', 'bracketleft', 'bracketright', 'c', 'd', 'e', 'eight', 'f', 'five', 'four', 'glyph00001', 'glyph00002', 'glyph03464', 'glyph03674', 'glyph03675', 'glyph03676', 'glyph03678', 'glyph03679', 'glyph03680', 'glyph03681', 'glyph03682', 'glyph03683', 'h', 'hyphen', 'i', 'l', 'm', 'n', 'nine', 'o', 'one', 'percent', 'period', 'r', 's', 'seven', 'six', 'space', 't', 'two', 'u', 'uni00B2', 'uni00B9', 'uni2070', 'uni2074', 'uni2075', 'uni2076', 'uni2077', 'uni2078', 'uni2079', 'v', 'w', 'y', 'z', 'zero']\n",
      "INFO:fontTools.subset:Glyph IDs:   [0, 1, 2, 3, 8, 16, 17, 19, 20, 21, 23, 24, 25, 26, 27, 28, 36, 37, 38, 39, 42, 44, 48, 49, 55, 62, 64, 68, 70, 71, 72, 73, 75, 76, 79, 80, 81, 82, 85, 86, 87, 88, 89, 90, 92, 93, 239, 240, 3464, 3674, 3675, 3676, 3678, 3679, 3680, 3681, 3682, 3683, 3684, 3685, 3686, 3774, 3775, 3776, 3777]\n",
      "INFO:fontTools.subset:Closed glyph list over 'glyf': 72 glyphs after\n",
      "INFO:fontTools.subset:Glyph names: ['.notdef', 'A', 'B', 'C', 'D', 'G', 'I', 'M', 'N', 'T', 'a', 'bracketleft', 'bracketright', 'c', 'd', 'e', 'eight', 'f', 'five', 'four', 'glyph00001', 'glyph00002', 'glyph03384', 'glyph03388', 'glyph03389', 'glyph03390', 'glyph03391', 'glyph03392', 'glyph03393', 'glyph03464', 'glyph03674', 'glyph03675', 'glyph03676', 'glyph03678', 'glyph03679', 'glyph03680', 'glyph03681', 'glyph03682', 'glyph03683', 'h', 'hyphen', 'i', 'l', 'm', 'n', 'nine', 'o', 'one', 'percent', 'period', 'r', 's', 'seven', 'six', 'space', 't', 'two', 'u', 'uni00B2', 'uni00B9', 'uni2070', 'uni2074', 'uni2075', 'uni2076', 'uni2077', 'uni2078', 'uni2079', 'v', 'w', 'y', 'z', 'zero']\n",
      "INFO:fontTools.subset:Glyph IDs:   [0, 1, 2, 3, 8, 16, 17, 19, 20, 21, 23, 24, 25, 26, 27, 28, 36, 37, 38, 39, 42, 44, 48, 49, 55, 62, 64, 68, 70, 71, 72, 73, 75, 76, 79, 80, 81, 82, 85, 86, 87, 88, 89, 90, 92, 93, 239, 240, 3384, 3388, 3389, 3390, 3391, 3392, 3393, 3464, 3674, 3675, 3676, 3678, 3679, 3680, 3681, 3682, 3683, 3684, 3685, 3686, 3774, 3775, 3776, 3777]\n",
      "INFO:fontTools.subset:Retaining 72 glyphs\n",
      "INFO:fontTools.subset:head subsetting not needed\n",
      "INFO:fontTools.subset:hhea subsetting not needed\n",
      "INFO:fontTools.subset:maxp subsetting not needed\n",
      "INFO:fontTools.subset:OS/2 subsetting not needed\n",
      "INFO:fontTools.subset:hmtx subsetted\n",
      "INFO:fontTools.subset:VDMX subsetting not needed\n",
      "INFO:fontTools.subset:hdmx subsetted\n",
      "INFO:fontTools.subset:cmap subsetted\n",
      "INFO:fontTools.subset:fpgm subsetting not needed\n",
      "INFO:fontTools.subset:prep subsetting not needed\n",
      "INFO:fontTools.subset:cvt  subsetting not needed\n",
      "INFO:fontTools.subset:loca subsetting not needed\n",
      "INFO:fontTools.subset:post subsetted\n",
      "INFO:fontTools.subset:gasp subsetting not needed\n",
      "INFO:fontTools.subset:GDEF subsetted\n",
      "INFO:fontTools.subset:GPOS subsetted\n",
      "INFO:fontTools.subset:GSUB subsetted\n",
      "INFO:fontTools.subset:name subsetting not needed\n",
      "INFO:fontTools.subset:glyf subsetted\n",
      "INFO:fontTools.subset:head pruned\n",
      "INFO:fontTools.subset:OS/2 Unicode ranges pruned: [0]\n",
      "INFO:fontTools.subset:OS/2 CodePage ranges pruned: [0]\n",
      "INFO:fontTools.subset:glyf pruned\n",
      "INFO:fontTools.subset:GDEF pruned\n",
      "INFO:fontTools.subset:GPOS pruned\n",
      "INFO:fontTools.subset:GSUB pruned\n",
      "INFO:fontTools.subset:name pruned\n"
     ]
    },
    {
     "data": {
      "image/png": "[encoded data removed]",
      "text/plain": [
       "<Figure size 400x200 with 1 Axes>"
      ]
     },
     "metadata": {},
     "output_type": "display_data"
    }
   ],
   "source": [
    "# Calculate mean, std, and SEM for each frame count\n",
    "channels = [\"intensity_mean-0\", \"intensity_mean-1\", \"intensity_mean-2\"]\n",
    "df_summary = df.groupby(\"frame_count\")[channels].agg([\"mean\", \"std\", \"count\"]).reset_index()\n",
    "\n",
    "# Flatten the multi-level columns\n",
    "df_summary.columns = [\"frame_count\"] + [f\"{col[0]}_{col[1]}\" for col in df_summary.columns[1:]]\n",
    "\n",
    "# Min-max scale the means and calculate 95% CI\n",
    "for channel in channels:\n",
    "    mean_col = f\"{channel}_mean\"\n",
    "    std_col = f\"{channel}_std\"\n",
    "    count_col = f\"{channel}_count\"\n",
    "\n",
    "    # Scale the mean to have a min of 0 and max of 1\n",
    "    min_val = df_summary[mean_col].min()\n",
    "    max_val = df_summary[mean_col].max()\n",
    "    df_summary[mean_col] = (df_summary[mean_col] - min_val) / (max_val - min_val)\n",
    "\n",
    "    # Adjust std (error bars) based on the same scaling\n",
    "    scale_factor = 1 / (max_val - min_val)\n",
    "    df_summary[std_col] = df_summary[std_col] * scale_factor\n",
    "\n",
    "    # Compute SEM and 95% CI\n",
    "    df_summary[f\"{channel}_sem\"] = df_summary[std_col] / np.sqrt(df_summary[count_col])\n",
    "    df_summary[f\"{channel}_ci\"] = df_summary[f\"{channel}_sem\"] * 1.96  # 95% CI\n",
    "\n",
    "# Convert back to long format for plotting\n",
    "long_df = pd.melt(\n",
    "    df_summary,\n",
    "    id_vars=\"frame_count\",\n",
    "    value_vars=[f\"{channel}_mean\" for channel in channels],\n",
    "    var_name=\"Channel\",\n",
    "    value_name=\"Mean_intensity\",\n",
    ")\n",
    "\n",
    "# Add confidence intervals\n",
    "long_df[\"CI\"] = pd.melt(\n",
    "    df_summary, id_vars=\"frame_count\", value_vars=[f\"{channel}_ci\" for channel in channels], value_name=\"CI\"\n",
    ")[\"CI\"]\n",
    "\n",
    "# Map channel names for better readability\n",
    "channel_mapping = {\"intensity_mean-0_mean\": \"Actin\", \"intensity_mean-1_mean\": \"Myosin\", \"intensity_mean-2_mean\": \"rGBD\"}\n",
    "long_df[\"Channel\"] = long_df[\"Channel\"].map(channel_mapping)\n",
    "\n",
    "# Plotting with confidence intervals\n",
    "\n",
    "# frame_count -WINDOW_SIZE\n",
    "long_df[\"frame_count\"] = long_df[\"frame_count\"] - WINDOW_SIZE\n",
    "\n",
    "fig, ax = plt.subplots(figsize=(4, 2))\n",
    "for idx, channel in enumerate(long_df[\"Channel\"].unique()):\n",
    "    subset = long_df[long_df[\"Channel\"] == channel]\n",
    "    sns.lineplot(\n",
    "        data=subset,\n",
    "        x=\"frame_count\",\n",
    "        y=\"Mean_intensity\",\n",
    "        label=channel,\n",
    "        ax=ax,\n",
    "        color=colors[idx],\n",
    "        linewidth=1,\n",
    "    )\n",
    "    # Add confidence intervals\n",
    "    ax.fill_between(\n",
    "        subset[\"frame_count\"],\n",
    "        subset[\"Mean_intensity\"] - subset[\"CI\"],\n",
    "        subset[\"Mean_intensity\"] + subset[\"CI\"],\n",
    "        alpha=0.2,\n",
    "        color=colors[idx],\n",
    "    )\n",
    "\n",
    "    print(subset[\"Mean_intensity\"].argmax() - WINDOW_SIZE)\n",
    "\n",
    "    ax.axvline(x=subset[\"Mean_intensity\"].argmax() - WINDOW_SIZE, linestyle=\"--\", linewidth=1, color=colors[idx])\n",
    "\n",
    "# Customize plot appearance\n",
    "ax.set_title(\"Normalized Intensity with 95% Confidence Intervals\")\n",
    "ax.set_xlabel(\"Time [min]\")\n",
    "ax.set_ylabel(\"Normalized intensity [a.u.]\")\n",
    "ax.set_xlim(-50, 50)\n",
    "ticks = np.arange(-48, 49, 6)\n",
    "ax.set_xticks(ticks)\n",
    "tick_labels = [str(int(tick / 6)) if (tick / 6) % 2 == 0 else \"\" for tick in ticks]\n",
    "ax.set_xticklabels(tick_labels)\n",
    "plt.tight_layout()\n",
    "plt.savefig(os.path.join(DIR_CORE, DIR_OUT_PLOT, \"normalized_intensity.pdf\"))\n",
    "plt.show()"
   ]
  },
  {
   "cell_type": "markdown",
   "id": "d7751568",
   "metadata": {},
   "source": [
    "## Snapshots of the entire FOVs"
   ]
  },
  {
   "cell_type": "code",
   "execution_count": null,
   "id": "89ab3b4b",
   "metadata": {},
   "outputs": [
    {
     "name": "stderr",
     "output_type": "stream",
     "text": [
      "WARNING: DirectWrite: CreateFontFaceFromHDC() failed (Gibt einen Fehler in einer Eingabedatei an, zum Beispiel eine Schriftartdatei.) for QFontDef(Family=\"\", pointsize=12, pixelsize=16, styleHint=5, weight=50, stretch=100, hintingPreference=0) LOGFONT(\"MS Sans Serif\", lfWidth=0, lfHeight=-16) dpi=96\n",
      "WARNING:vispy:DirectWrite: CreateFontFaceFromHDC() failed (Gibt einen Fehler in einer Eingabedatei an, zum Beispiel eine Schriftartdatei.) for QFontDef(Family=\"\", pointsize=12, pixelsize=16, styleHint=5, weight=50, stretch=100, hintingPreference=0) LOGFONT(\"MS Sans Serif\", lfWidth=0, lfHeight=-16) dpi=96\n"
     ]
    }
   ],
   "source": [
    "viewer = napari.Viewer()\n",
    "viewer.add_image(actin_corrected[50:-50], name=\"lifeact\", colormap=\"gray_r\", contrast_limits=[125, 800])\n",
    "labels = viewer.add_labels(events_upscaled, name=\"tracked_waves\", colormap=cmap)"
   ]
  },
  {
   "cell_type": "code",
   "execution_count": 11,
   "id": "522cfaa3",
   "metadata": {},
   "outputs": [],
   "source": [
    "samples = np.linspace(0, 90, 4, dtype=int)\n",
    "\n",
    "rgb_events = []\n",
    "rbg_lifeact = []\n",
    "viewer.layers[\"lifeact\"].visible = True\n",
    "viewer.layers[\"tracked_waves\"].visible = True\n",
    "for img in samples:\n",
    "    viewer.dims.set_current_step(0, img)\n",
    "    rgb_events.append(render_as_rgb(viewer, upsample_factor=1))\n",
    "\n",
    "viewer.layers[\"tracked_waves\"].visible = False\n",
    "\n",
    "for img in samples:\n",
    "    viewer.dims.set_current_step(0, img)\n",
    "    rbg_lifeact.append(render_as_rgb(viewer, upsample_factor=1))"
   ]
  },
  {
   "cell_type": "code",
   "execution_count": null,
   "id": "7597295b",
   "metadata": {},
   "outputs": [
    {
     "name": "stderr",
     "output_type": "stream",
     "text": [
      "INFO:fontTools.subset:maxp pruned\n",
      "INFO:fontTools.subset:LTSH dropped\n",
      "INFO:fontTools.subset:cmap pruned\n",
      "INFO:fontTools.subset:kern dropped\n",
      "INFO:fontTools.subset:post pruned\n",
      "INFO:fontTools.subset:PCLT dropped\n",
      "INFO:fontTools.subset:JSTF dropped\n",
      "INFO:fontTools.subset:meta dropped\n",
      "INFO:fontTools.subset:DSIG dropped\n",
      "INFO:fontTools.subset:GPOS pruned\n",
      "INFO:fontTools.subset:GSUB pruned\n",
      "INFO:fontTools.subset:glyf pruned\n",
      "INFO:fontTools.subset:Added gid0 to subset\n",
      "INFO:fontTools.subset:Added first four glyphs to subset\n",
      "INFO:fontTools.subset:Closing glyph list over 'GSUB': 10 glyphs before\n",
      "INFO:fontTools.subset:Glyph names: ['.notdef', 'five', 'glyph00001', 'glyph00002', 'i', 'm', 'n', 'one', 'space', 'zero']\n",
      "INFO:fontTools.subset:Glyph IDs:   [0, 1, 2, 3, 19, 20, 24, 76, 80, 81]\n",
      "INFO:fontTools.subset:Closed glyph list over 'GSUB': 17 glyphs after\n",
      "INFO:fontTools.subset:Glyph names: ['.notdef', 'five', 'glyph00001', 'glyph00002', 'glyph03464', 'glyph03674', 'glyph03675', 'glyph03679', 'i', 'm', 'n', 'one', 'space', 'uni00B9', 'uni2070', 'uni2075', 'zero']\n",
      "INFO:fontTools.subset:Glyph IDs:   [0, 1, 2, 3, 19, 20, 24, 76, 80, 81, 239, 3464, 3674, 3675, 3679, 3686, 3775]\n",
      "INFO:fontTools.subset:Closing glyph list over 'glyf': 17 glyphs before\n",
      "INFO:fontTools.subset:Glyph names: ['.notdef', 'five', 'glyph00001', 'glyph00002', 'glyph03464', 'glyph03674', 'glyph03675', 'glyph03679', 'i', 'm', 'n', 'one', 'space', 'uni00B9', 'uni2070', 'uni2075', 'zero']\n",
      "INFO:fontTools.subset:Glyph IDs:   [0, 1, 2, 3, 19, 20, 24, 76, 80, 81, 239, 3464, 3674, 3675, 3679, 3686, 3775]\n",
      "INFO:fontTools.subset:Closed glyph list over 'glyf': 19 glyphs after\n",
      "INFO:fontTools.subset:Glyph names: ['.notdef', 'five', 'glyph00001', 'glyph00002', 'glyph03384', 'glyph03389', 'glyph03464', 'glyph03674', 'glyph03675', 'glyph03679', 'i', 'm', 'n', 'one', 'space', 'uni00B9', 'uni2070', 'uni2075', 'zero']\n",
      "INFO:fontTools.subset:Glyph IDs:   [0, 1, 2, 3, 19, 20, 24, 76, 80, 81, 239, 3384, 3389, 3464, 3674, 3675, 3679, 3686, 3775]\n",
      "INFO:fontTools.subset:Retaining 19 glyphs\n",
      "INFO:fontTools.subset:head subsetting not needed\n",
      "INFO:fontTools.subset:hhea subsetting not needed\n",
      "INFO:fontTools.subset:maxp subsetting not needed\n",
      "INFO:fontTools.subset:OS/2 subsetting not needed\n",
      "INFO:fontTools.subset:hmtx subsetted\n",
      "INFO:fontTools.subset:VDMX subsetting not needed\n",
      "INFO:fontTools.subset:hdmx subsetted\n",
      "INFO:fontTools.subset:cmap subsetted\n",
      "INFO:fontTools.subset:fpgm subsetting not needed\n",
      "INFO:fontTools.subset:prep subsetting not needed\n",
      "INFO:fontTools.subset:cvt  subsetting not needed\n",
      "INFO:fontTools.subset:loca subsetting not needed\n",
      "INFO:fontTools.subset:post subsetted\n",
      "INFO:fontTools.subset:gasp subsetting not needed\n",
      "INFO:fontTools.subset:GDEF subsetted\n",
      "INFO:fontTools.subset:GPOS subsetted\n",
      "INFO:fontTools.subset:GSUB subsetted\n",
      "INFO:fontTools.subset:name subsetting not needed\n",
      "INFO:fontTools.subset:glyf subsetted\n",
      "INFO:fontTools.subset:head pruned\n",
      "INFO:fontTools.subset:OS/2 Unicode ranges pruned: [0]\n",
      "INFO:fontTools.subset:OS/2 CodePage ranges pruned: [0]\n",
      "INFO:fontTools.subset:glyf pruned\n",
      "INFO:fontTools.subset:GDEF pruned\n",
      "INFO:fontTools.subset:GPOS pruned\n",
      "INFO:fontTools.subset:GSUB pruned\n",
      "INFO:fontTools.subset:name pruned\n"
     ]
    },
    {
     "data": {
      "image/png": "[encoded data removed]",
      "text/plain": [
       "<Figure size 550x300 with 8 Axes>"
      ]
     },
     "metadata": {},
     "output_type": "display_data"
    }
   ],
   "source": [
    "plt.rcParams[\"svg.fonttype\"] = \"none\"\n",
    "plt.rc(\"pdf\", fonttype=42)\n",
    "# set font to arial\n",
    "plt.rcParams[\"font.sans-serif\"] = \"Arial\"\n",
    "\n",
    "fig, ax = plt.subplots(2, 4, figsize=(5.5, 3))\n",
    "\n",
    "for idx, val in enumerate(samples):\n",
    "    ax[0, idx].imshow(rbg_lifeact[idx])\n",
    "    # in minutes\n",
    "    ax[0, idx].set_title(f\"{val*SAMPLE_PERIOD_S/60:.0f} min\")\n",
    "    # remove ticks\n",
    "    ax[0, idx].set_xticks([])\n",
    "    ax[0, idx].set_yticks([])\n",
    "\n",
    "for idx, val in enumerate(samples):\n",
    "    ax[1, idx].imshow(rgb_events[idx])\n",
    "    # remove ticks\n",
    "    ax[1, idx].set_xticks([])\n",
    "    ax[1, idx].set_yticks([])\n",
    "    if val == samples[-1]:\n",
    "        scalebar = ScaleBar(\n",
    "            PIXEL_SIZE,\n",
    "            \"um\",\n",
    "            length_fraction=0.2,\n",
    "            location=\"lower right\",\n",
    "            scale_loc=\"none\",\n",
    "            box_alpha=0,\n",
    "            width_fraction=0.025,\n",
    "        )\n",
    "        ax[1, idx].add_artist(scalebar)\n",
    "\n",
    "plt.tight_layout(h_pad=1, w_pad=1)\n",
    "plt.savefig(f\"{DIR_CORE}/{DIR_OUT_PLOT}/pannels_insert.pdf\", dpi=600)\n",
    "# scalebar = 25 um"
   ]
  },
  {
   "cell_type": "markdown",
   "id": "3e3dea8d",
   "metadata": {},
   "source": [
    "## Snapshots of an event"
   ]
  },
  {
   "cell_type": "code",
   "execution_count": 23,
   "id": "f4e06267",
   "metadata": {},
   "outputs": [
    {
     "name": "stderr",
     "output_type": "stream",
     "text": [
      "WARNING: QWindowsWindow::setGeometry: Unable to set geometry 1086x658+425+427 (frame: 1102x697+417+396) on QWidgetWindow/\"_QtMainWindowClassWindow\" on \"\\\\.\\DISPLAY2\". Resulting geometry: 479x507+419+393 (frame: 495x546+411+362) margins: 8, 31, 8, 8 minimum size: 385x507 MINMAXINFO maxSize=0,0 maxpos=0,0 mintrack=401,546 maxtrack=0,0)\n",
      "WARNING:vispy:QWindowsWindow::setGeometry: Unable to set geometry 1086x658+425+427 (frame: 1102x697+417+396) on QWidgetWindow/\"_QtMainWindowClassWindow\" on \"\\\\.\\DISPLAY2\". Resulting geometry: 479x507+419+393 (frame: 495x546+411+362) margins: 8, 31, 8, 8 minimum size: 385x507 MINMAXINFO maxSize=0,0 maxpos=0,0 mintrack=401,546 maxtrack=0,0)\n",
      "WARNING: DirectWrite: CreateFontFaceFromHDC() failed (Gibt einen Fehler in einer Eingabedatei an, zum Beispiel eine Schriftartdatei.) for QFontDef(Family=\"\", pointsize=12, pixelsize=16, styleHint=5, weight=50, stretch=100, hintingPreference=0) LOGFONT(\"MS Sans Serif\", lfWidth=0, lfHeight=-16) dpi=96\n",
      "WARNING:vispy:DirectWrite: CreateFontFaceFromHDC() failed (Gibt einen Fehler in einer Eingabedatei an, zum Beispiel eine Schriftartdatei.) for QFontDef(Family=\"\", pointsize=12, pixelsize=16, styleHint=5, weight=50, stretch=100, hintingPreference=0) LOGFONT(\"MS Sans Serif\", lfWidth=0, lfHeight=-16) dpi=96\n"
     ]
    },
    {
     "data": {
      "text/plain": [
       "<Labels layer 'lineages' at 0x1e60a6e2e40>"
      ]
     },
     "execution_count": 23,
     "metadata": {},
     "output_type": "execute_result"
    }
   ],
   "source": [
    "viewer = napari.Viewer()\n",
    "viewer.add_image(actin_corrected[50:-50], name=\"lifeact\", colormap=\"gray_r\")\n",
    "viewer.add_labels(events_upscaled, name=\"tracked_waves\", colormap=cmap)\n",
    "viewer.add_labels(events_lineage_upscaled, name=\"lineages\", colormap=cmap)"
   ]
  },
  {
   "cell_type": "code",
   "execution_count": null,
   "id": "47345710",
   "metadata": {},
   "outputs": [
    {
     "name": "stderr",
     "output_type": "stream",
     "text": [
      "WARNING: QWindowsWindow::setGeometry: Unable to set geometry 1086x658+425+427 (frame: 1102x697+417+396) on QWidgetWindow/\"_QtMainWindowClassWindow\" on \"\\\\.\\DISPLAY2\". Resulting geometry: 479x507+419+393 (frame: 495x546+411+362) margins: 8, 31, 8, 8 minimum size: 385x507 MINMAXINFO maxSize=0,0 maxpos=0,0 mintrack=401,546 maxtrack=0,0)\n",
      "WARNING:vispy:QWindowsWindow::setGeometry: Unable to set geometry 1086x658+425+427 (frame: 1102x697+417+396) on QWidgetWindow/\"_QtMainWindowClassWindow\" on \"\\\\.\\DISPLAY2\". Resulting geometry: 479x507+419+393 (frame: 495x546+411+362) margins: 8, 31, 8, 8 minimum size: 385x507 MINMAXINFO maxSize=0,0 maxpos=0,0 mintrack=401,546 maxtrack=0,0)\n"
     ]
    },
    {
     "data": {
      "text/plain": [
       "<Labels layer 'tracked_waves' at 0x1e65084e930>"
      ]
     },
     "execution_count": 24,
     "metadata": {},
     "output_type": "execute_result"
    }
   ],
   "source": [
    "# make crop of single event and follow it over time with high temporal resolution\n",
    "\n",
    "# get the event id\n",
    "event_id = 5\n",
    "\n",
    "# get the frames of the event\n",
    "event_frames = np.where(events_lineage_upscaled[:50] == event_id)\n",
    "\n",
    "# get the first frame of the event\n",
    "first_frame = event_frames[0][0]\n",
    "\n",
    "# get bounding box of the event\n",
    "bbox = ndimage.find_objects(events_lineage_upscaled[:50] == event_id)[0]\n",
    "\n",
    "# crop the event\n",
    "cropped_event_actin = actin_corrected[50:-50][bbox]\n",
    "cropped_event = events_upscaled[bbox]\n",
    "# plot 10 frames as a sequence of the event cropped to the bounding box\n",
    "\n",
    "# add to napari viewer\n",
    "viewer = napari.Viewer()\n",
    "viewer.add_image(cropped_event_actin, name=\"actin\", colormap=\"gray_r\")\n",
    "viewer.add_labels(cropped_event, name=\"tracked_waves\", colormap=cmap)"
   ]
  },
  {
   "cell_type": "code",
   "execution_count": 25,
   "id": "5427c7b4",
   "metadata": {},
   "outputs": [],
   "source": [
    "# create rgb images of the event\n",
    "rgb_event = render_as_rgb(viewer, axis=0, upsample_factor=4)\n",
    "viewer.layers[\"tracked_waves\"].visible = False\n",
    "rgb_actin_only = render_as_rgb(viewer, axis=0, upsample_factor=4)"
   ]
  },
  {
   "cell_type": "code",
   "execution_count": null,
   "id": "43cb931a",
   "metadata": {},
   "outputs": [
    {
     "name": "stderr",
     "output_type": "stream",
     "text": [
      "INFO:fontTools.subset:maxp pruned\n",
      "INFO:fontTools.subset:LTSH dropped\n",
      "INFO:fontTools.subset:cmap pruned\n",
      "INFO:fontTools.subset:kern dropped\n",
      "INFO:fontTools.subset:post pruned\n",
      "INFO:fontTools.subset:PCLT dropped\n",
      "INFO:fontTools.subset:JSTF dropped\n",
      "INFO:fontTools.subset:meta dropped\n",
      "INFO:fontTools.subset:DSIG dropped\n",
      "INFO:fontTools.subset:GPOS pruned\n",
      "INFO:fontTools.subset:GSUB pruned\n",
      "INFO:fontTools.subset:glyf pruned\n",
      "INFO:fontTools.subset:Added gid0 to subset\n",
      "INFO:fontTools.subset:Added first four glyphs to subset\n",
      "INFO:fontTools.subset:Closing glyph list over 'GSUB': 11 glyphs before\n",
      "INFO:fontTools.subset:Glyph names: ['.notdef', 'eight', 'four', 'glyph00001', 'glyph00002', 'one', 's', 'six', 'space', 'two', 'zero']\n",
      "INFO:fontTools.subset:Glyph IDs:   [0, 1, 2, 3, 19, 20, 21, 23, 25, 27, 86]\n",
      "INFO:fontTools.subset:Closed glyph list over 'GSUB': 23 glyphs after\n",
      "INFO:fontTools.subset:Glyph names: ['.notdef', 'eight', 'four', 'glyph00001', 'glyph00002', 'glyph03674', 'glyph03675', 'glyph03676', 'glyph03678', 'glyph03680', 'glyph03682', 'one', 's', 'six', 'space', 'two', 'uni00B2', 'uni00B9', 'uni2070', 'uni2074', 'uni2076', 'uni2078', 'zero']\n",
      "INFO:fontTools.subset:Glyph IDs:   [0, 1, 2, 3, 19, 20, 21, 23, 25, 27, 86, 239, 240, 3674, 3675, 3676, 3678, 3680, 3682, 3684, 3686, 3774, 3777]\n",
      "INFO:fontTools.subset:Closing glyph list over 'glyf': 23 glyphs before\n",
      "INFO:fontTools.subset:Glyph names: ['.notdef', 'eight', 'four', 'glyph00001', 'glyph00002', 'glyph03674', 'glyph03675', 'glyph03676', 'glyph03678', 'glyph03680', 'glyph03682', 'one', 's', 'six', 'space', 'two', 'uni00B2', 'uni00B9', 'uni2070', 'uni2074', 'uni2076', 'uni2078', 'zero']\n",
      "INFO:fontTools.subset:Glyph IDs:   [0, 1, 2, 3, 19, 20, 21, 23, 25, 27, 86, 239, 240, 3674, 3675, 3676, 3678, 3680, 3682, 3684, 3686, 3774, 3777]\n",
      "INFO:fontTools.subset:Closed glyph list over 'glyf': 27 glyphs after\n",
      "INFO:fontTools.subset:Glyph names: ['.notdef', 'eight', 'four', 'glyph00001', 'glyph00002', 'glyph03384', 'glyph03388', 'glyph03390', 'glyph03392', 'glyph03674', 'glyph03675', 'glyph03676', 'glyph03678', 'glyph03680', 'glyph03682', 'one', 's', 'six', 'space', 'two', 'uni00B2', 'uni00B9', 'uni2070', 'uni2074', 'uni2076', 'uni2078', 'zero']\n",
      "INFO:fontTools.subset:Glyph IDs:   [0, 1, 2, 3, 19, 20, 21, 23, 25, 27, 86, 239, 240, 3384, 3388, 3390, 3392, 3674, 3675, 3676, 3678, 3680, 3682, 3684, 3686, 3774, 3777]\n",
      "INFO:fontTools.subset:Retaining 27 glyphs\n",
      "INFO:fontTools.subset:head subsetting not needed\n",
      "INFO:fontTools.subset:hhea subsetting not needed\n",
      "INFO:fontTools.subset:maxp subsetting not needed\n",
      "INFO:fontTools.subset:OS/2 subsetting not needed\n",
      "INFO:fontTools.subset:hmtx subsetted\n",
      "INFO:fontTools.subset:VDMX subsetting not needed\n",
      "INFO:fontTools.subset:hdmx subsetted\n",
      "INFO:fontTools.subset:cmap subsetted\n",
      "INFO:fontTools.subset:fpgm subsetting not needed\n",
      "INFO:fontTools.subset:prep subsetting not needed\n",
      "INFO:fontTools.subset:cvt  subsetting not needed\n",
      "INFO:fontTools.subset:loca subsetting not needed\n",
      "INFO:fontTools.subset:post subsetted\n",
      "INFO:fontTools.subset:gasp subsetting not needed\n",
      "INFO:fontTools.subset:GDEF subsetted\n",
      "INFO:fontTools.subset:GPOS subsetted\n",
      "INFO:fontTools.subset:GSUB subsetted\n",
      "INFO:fontTools.subset:name subsetting not needed\n",
      "INFO:fontTools.subset:glyf subsetted\n",
      "INFO:fontTools.subset:head pruned\n",
      "INFO:fontTools.subset:OS/2 Unicode ranges pruned: [0]\n",
      "INFO:fontTools.subset:OS/2 CodePage ranges pruned: [0]\n",
      "INFO:fontTools.subset:glyf pruned\n",
      "INFO:fontTools.subset:GDEF pruned\n",
      "INFO:fontTools.subset:GPOS pruned\n",
      "INFO:fontTools.subset:GSUB pruned\n",
      "INFO:fontTools.subset:name pruned\n"
     ]
    },
    {
     "data": {
      "image/png": "[encoded data removed]",
      "text/plain": [
       "<Figure size 750x300 with 6 Axes>"
      ]
     },
     "metadata": {},
     "output_type": "display_data"
    }
   ],
   "source": [
    "plt.rcParams[\"svg.fonttype\"] = \"none\"\n",
    "plt.rc(\"pdf\", fonttype=42)\n",
    "# set font to arial\n",
    "plt.rcParams[\"font.sans-serif\"] = \"Arial\"\n",
    "\n",
    "fig, ax = plt.subplots(1, 6, figsize=(5, 2), dpi=150)\n",
    "\n",
    "for idx, val in enumerate(range(first_frame, first_frame + 22, 4)):\n",
    "    ax[idx].imshow(rgb_event[val])\n",
    "    # remove ticks\n",
    "    ax[idx].set_xticks([])\n",
    "    ax[idx].set_yticks([])\n",
    "    # Add text to the upper left corner\n",
    "    ax[idx].text(\n",
    "        0.05,\n",
    "        0.95,\n",
    "        f\"{val*SAMPLE_PERIOD_S:.0f} s\",\n",
    "        transform=ax[idx].transAxes,\n",
    "        fontsize=8,\n",
    "        verticalalignment=\"top\",\n",
    "        horizontalalignment=\"left\",\n",
    "    )\n",
    "    ax[idx].margins(0, 0)\n",
    "    if idx == 5:\n",
    "        scalebar = ScaleBar(\n",
    "            PIXEL_SIZE / 4,\n",
    "            \"um\",\n",
    "            length_fraction=0.5,\n",
    "            location=\"lower right\",\n",
    "            scale_loc=\"none\",\n",
    "            box_alpha=0,\n",
    "            width_fraction=0.025,\n",
    "        )  # 4x upsampled # size is 5 um\n",
    "        ax[idx].add_artist(scalebar)\n",
    "\n",
    "plt.tight_layout(h_pad=0, w_pad=0)\n",
    "\n",
    "plt.savefig(f\"{DIR_CORE}/{DIR_OUT_PLOT}/event_sequence.pdf\", dpi=600)\n",
    "plt.show()"
   ]
  },
  {
   "cell_type": "markdown",
   "id": "cb4dd9b1",
   "metadata": {},
   "source": [
    "## Export stacks"
   ]
  },
  {
   "cell_type": "code",
   "execution_count": null,
   "id": "662ad510",
   "metadata": {},
   "outputs": [],
   "source": [
    "viewer = napari.Viewer()\n",
    "viewer.add_image(\n",
    "    actin_corrected[50:-50],\n",
    "    name=\"actin\",\n",
    "    scale=(1, PIXEL_SIZE, PIXEL_SIZE),\n",
    "    colormap=\"gray_r\",\n",
    "    contrast_limits=(100, 900),\n",
    "    gamma=1,\n",
    ")\n",
    "viewer.add_image(\n",
    "    myosin_corrected[50:-50],\n",
    "    name=\"myosin\",\n",
    "    scale=(1, PIXEL_SIZE, PIXEL_SIZE),\n",
    "    colormap=\"gray_r\",\n",
    "    contrast_limits=(250, 400),\n",
    "    gamma=1.6,\n",
    ")\n",
    "viewer.add_image(\n",
    "    rGBD_corrected[50:-50],\n",
    "    name=\"rGBD\",\n",
    "    scale=(1, PIXEL_SIZE, PIXEL_SIZE),\n",
    "    colormap=\"gray_r\",\n",
    "    contrast_limits=(180, 400),\n",
    "    gamma=1.3,\n",
    ")"
   ]
  },
  {
   "cell_type": "code",
   "execution_count": null,
   "id": "da6864f7",
   "metadata": {},
   "outputs": [],
   "source": [
    "for layer in viewer.layers:\n",
    "    layer.visible = False\n",
    "\n",
    "viewer.layers[\"actin\"].visible = True\n",
    "actin_rgb = render_as_rgb(viewer, axis=0, upsample_factor=2)\n",
    "\n",
    "viewer.layers[\"actin\"].visible = False\n",
    "viewer.layers[\"myosin\"].visible = True\n",
    "myosin_rgb = render_as_rgb(viewer, axis=0, upsample_factor=2)\n",
    "\n",
    "viewer.layers[\"myosin\"].visible = False\n",
    "viewer.layers[\"rGBD\"].visible = True\n",
    "rGBD_rgb = render_as_rgb(viewer, axis=0, upsample_factor=2)\n",
    "\n",
    "viewer.layers[\"rGBD\"].visible = False"
   ]
  },
  {
   "cell_type": "code",
   "execution_count": null,
   "id": "be79ef7a",
   "metadata": {},
   "outputs": [],
   "source": [
    "save_image_stack(actin_rgb, \"actin_rgb.tif\")\n",
    "save_image_stack(myosin_rgb, \"myosin_rgb.tif\")\n",
    "save_image_stack(rGBD_rgb, \"rGBD_rgb.tif\")"
   ]
  },
  {
   "cell_type": "markdown",
   "id": "b716073d",
   "metadata": {},
   "source": [
    "## Plot a kymograph of all channels"
   ]
  },
  {
   "cell_type": "code",
   "execution_count": null,
   "id": "a9f9cd79",
   "metadata": {},
   "outputs": [],
   "source": [
    "actin_cropped = actin_corrected[50:-50, 0:200, 340:540]\n",
    "myosin_cropped = myosin_corrected[50:-50, 0:200, 340:540]\n",
    "rGBD_cropped = rGBD_corrected[50:-50, 0:200, 340:540]"
   ]
  },
  {
   "cell_type": "code",
   "execution_count": null,
   "id": "6c0395ce",
   "metadata": {},
   "outputs": [],
   "source": [
    "viewer = napari.Viewer()\n",
    "\n",
    "viewer.add_image(actin_cropped, name=\"actin\", colormap=\"green\", blending=\"translucent\", contrast_limits=(50, 800))\n",
    "viewer.add_image(myosin_cropped, name=\"myosin\", colormap=\"magenta\", blending=\"additive\", contrast_limits=(150, 350))\n",
    "viewer.add_image(rGBD_cropped, name=\"rGBD\", colormap=\"cyan\", blending=\"additive\", contrast_limits=(100, 550))\n",
    "viewer.add_shapes([], name=\"kymo_line\")"
   ]
  },
  {
   "cell_type": "code",
   "execution_count": null,
   "id": "eb74955d",
   "metadata": {},
   "outputs": [],
   "source": [
    "line_coords = viewer.layers[\"kymo_line\"].data[0]\n",
    "# save the line coordinates to a file\n",
    "np.savetxt(os.path.join(DIR_MISC, \"line_coords.csv\"), line_coords, delimiter=\",\")  # y, x"
   ]
  },
  {
   "cell_type": "code",
   "execution_count": null,
   "id": "bdff650a",
   "metadata": {},
   "outputs": [],
   "source": [
    "line_coords = np.loadtxt(os.path.join(DIR_OUT_DATA, \"line_coords.csv\"), delimiter=\",\")"
   ]
  },
  {
   "cell_type": "code",
   "execution_count": null,
   "id": "6c6d54c1",
   "metadata": {},
   "outputs": [],
   "source": [
    "from skimage.measure import profile_line\n",
    "\n",
    "actin_profile = np.array([profile_line(frame, line_coords[1], line_coords[0]) for frame in actin_cropped])\n",
    "myosin_profile = np.array([profile_line(frame, line_coords[1], line_coords[0]) for frame in myosin_cropped])\n",
    "rGBD_profile = np.array([profile_line(frame, line_coords[1], line_coords[0]) for frame in rGBD_cropped])"
   ]
  },
  {
   "cell_type": "code",
   "execution_count": null,
   "id": "b39741a8",
   "metadata": {},
   "outputs": [],
   "source": [
    "fig, ax = plt.subplots(figsize=(3, 3))\n",
    "ax.imshow(actin_cropped[0], cmap=\"Grays\", vmin=50, vmax=800)\n",
    "ax.plot(line_coords[:, 1], line_coords[:, 0], \"gold\", lw=2)\n",
    "ax.set_xticks([])\n",
    "ax.set_yticks([])\n",
    "scale = ScaleBar(PIXEL_SIZE, units=\"um\", location=\"lower right\")\n",
    "ax.add_artist(scale)\n",
    "plt.savefig(os.path.join(DIR_OUT_PLOT, \"kymo_line.svg\"), dpi=300, bbox_inches=\"tight\", pad_inches=0.1)"
   ]
  },
  {
   "cell_type": "code",
   "execution_count": null,
   "id": "25183956",
   "metadata": {},
   "outputs": [],
   "source": [
    "# draw composite image F-ACTIN and rGBD profiles\n",
    "viewer = napari.Viewer()\n",
    "viewer.add_image(actin_profile, name=\"actin\", colormap=\"green\", blending=\"translucent\", contrast_limits=(50, 700))\n",
    "viewer.add_image(myosin_profile, name=\"myosin\", colormap=\"magenta\", blending=\"additive\", contrast_limits=(250, 325))\n",
    "viewer.add_image(rGBD_profile, name=\"rGBD\", colormap=\"cyan\", blending=\"additive\", contrast_limits=(190, 290))\n",
    "composite = render_as_rgb(viewer, None, 1)\n",
    "viewer.close()"
   ]
  },
  {
   "cell_type": "code",
   "execution_count": null,
   "id": "71334442",
   "metadata": {},
   "outputs": [],
   "source": [
    "actin_profile_rotated = np.rot90(actin_profile, 1)\n",
    "rGBD_profile_rotated = np.rot90(rGBD_profile, 1)\n",
    "myosin_profile_rotated = np.rot90(myosin_profile, 1)\n",
    "composite_rotated = np.rot90(composite, 1)"
   ]
  },
  {
   "cell_type": "code",
   "execution_count": null,
   "id": "975e6538",
   "metadata": {},
   "outputs": [],
   "source": [
    "fig, ax = plt.subplots(4, 1, figsize=(5, 2))\n",
    "ax[0].imshow(actin_profile_rotated, cmap=\"Grays\", vmin=50, vmax=700)\n",
    "ax[0].set_ylabel(\"F-Actin\")\n",
    "ax[1].imshow(rGBD_profile_rotated, cmap=\"Grays\", vmin=190, vmax=250)\n",
    "ax[1].set_ylabel(\"Active\\n RhoA\")\n",
    "ax[2].imshow(myosin_profile_rotated, cmap=\"Grays\", vmin=250, vmax=325)\n",
    "ax[2].set_ylabel(\"Myosin\")\n",
    "ax[3].imshow(composite_rotated)\n",
    "ax[3].set_ylabel(\"Composite\")\n",
    "# ax[-1].plot([0, composite_rotated.shape[1]], [composite_rotated.shape[0] // 3.5, composite_rotated.shape[0] // 3.5], \"gold\", alpha=1, lw=2)\n",
    "\n",
    "\n",
    "for a in ax:\n",
    "    # remove ticks\n",
    "    a.set_xticks([])\n",
    "    a.set_yticks([])\n",
    "\n",
    "scale = ScaleBar(\n",
    "    1,\n",
    "    units=\"px\",\n",
    "    dimension=\"pixel-length\",\n",
    "    location=\"lower right\",\n",
    "    fixed_units=\"px\",\n",
    "    fixed_value=60,\n",
    "    rotation=\"horizontal-only\",\n",
    ")\n",
    "ax[-1].add_artist(scale)\n",
    "# ax[-1].autoscale(False)\n",
    "scale_y = ScaleBar(\n",
    "    0.366, units=\"um\", location=\"lower right\", fixed_units=\"um\", fixed_value=10, rotation=\"vertical-only\"\n",
    ")\n",
    "ax[-1].add_artist(scale_y)\n",
    "plt.tight_layout()\n",
    "plt.savefig(os.path.join(DIR_OUT_PLOT, \"kymograph.svg\"), bbox_inches=\"tight\")"
   ]
  },
  {
   "cell_type": "markdown",
   "id": "35623b35",
   "metadata": {},
   "source": [
    "# Validation of Data aggregation and time delay estimation\n",
    "Here, we shift one reference channel by n frames and compute the time-delay between the unshifted and shifted reference channel. Hence, we can validate the time delay estimation based on the used extraction method."
   ]
  },
  {
   "cell_type": "code",
   "execution_count": null,
   "id": "b2b2161e",
   "metadata": {},
   "outputs": [],
   "source": [
    "actin_corrected = io.imread(f\"{DIR_CORE}/{DIR_OUT_DATA}/actin_corrected.tif\")\n",
    "events_upscaled = io.imread(f\"{DIR_CORE}/{DIR_OUT_DATA}/tracked_waves.tif\")\n",
    "\n",
    "actin_shifted = actin_corrected[10:]\n",
    "actin_unshifted = actin_corrected[:-10]"
   ]
  },
  {
   "cell_type": "code",
   "execution_count": null,
   "id": "a6bcfbee",
   "metadata": {},
   "outputs": [],
   "source": [
    "event_ids = np.unique(events_upscaled)[1:]  # Assuming 0 is background\n",
    "\n",
    "results_list = analyze_events(\n",
    "    events_upscaled.astype(float),\n",
    "    np.stack([actin_unshifted, actin_shifted], axis=-1, dtype=float)[50:-50],\n",
    "    event_ids.astype(float),\n",
    "    WINDOW_SIZE,\n",
    "    valid_windows_only=True,\n",
    "    min_duration=20,\n",
    ")"
   ]
  },
  {
   "cell_type": "code",
   "execution_count": null,
   "id": "1dc8c38c",
   "metadata": {},
   "outputs": [],
   "source": [
    "df = post_process_results(results_list, \"detrended_intensities\", filter_window_size=9)\n",
    "df[\"frame_count\"] = df.groupby([\"event_id\"])[\"frame\"].transform(lambda x: x - x.min())\n",
    "df.head()"
   ]
  },
  {
   "cell_type": "code",
   "execution_count": null,
   "id": "4ed4bc4c",
   "metadata": {},
   "outputs": [],
   "source": [
    "# rc config to save svgs as text\n",
    "plt.rcParams[\"svg.fonttype\"] = \"none\"\n",
    "# set font to Arial\n",
    "plt.rcParams[\"font.sans-serif\"] = \"Arial\"\n",
    "# set font size to 8\n",
    "plt.rcParams.update({\"font.size\": 8})\n",
    "\n",
    "names = [\"actin\", \"actin_shifted_10\"]\n",
    "\n",
    "# Sample a random set of rows from the DataFrame\n",
    "sampled_df = df[\"event_id\"].drop_duplicates().sample(n=8, random_state=0)  # Assuming you want 16 plots on a 4x4 grid\n",
    "\n",
    "# Extract unique combinations of 'event_id' and 'middle_frame'\n",
    "unique_combinations = sampled_df\n",
    "\n",
    "# Create a 4x4 grid of plots\n",
    "fig, axes = plt.subplots(2, 4, figsize=(4, 2), sharex=True, sharey=True, dpi=150)\n",
    "axes = axes.flatten()\n",
    "\n",
    "# Iterate over each unique combination and plot\n",
    "for i, (ax, row) in enumerate(zip(axes, unique_combinations)):\n",
    "    # Filter the original DataFrame for the current combination\n",
    "    grp = df[(df[\"event_id\"] == row)]\n",
    "    grp = grp[grp[\"middle_frame\"] == grp[\"middle_frame\"].sample(1, random_state=1337).iloc[0]]\n",
    "\n",
    "    # # Plot the data\n",
    "    ax.plot(\n",
    "        (grp[\"frame_count\"] - WINDOW_SIZE) * 10, grp[\"intensity_mean-0\"], color=colors[0], label=names[0], alpha=0.6\n",
    "    )\n",
    "    ax.plot(\n",
    "        (grp[\"frame_count\"] - WINDOW_SIZE) * 10, grp[\"intensity_mean-1\"], color=colors[1], label=names[1], alpha=0.6\n",
    "    )\n",
    "\n",
    "    ax.set_title(f\"Event: {row}\", fontsize=8)\n",
    "\n",
    "fig.supylabel(\"Intensity [a.u]\")\n",
    "fig.supxlabel(\"Time [s]\")\n",
    "fig.legend(labels=names)\n",
    "\n",
    "plt.tight_layout()\n",
    "plt.show()"
   ]
  },
  {
   "cell_type": "code",
   "execution_count": null,
   "id": "aa83ed0e",
   "metadata": {},
   "outputs": [],
   "source": [
    "# Calculate mean, std, and SEM for each frame count\n",
    "channels = [\"intensity_mean-0\", \"intensity_mean-1\"]\n",
    "df_summary = df.groupby(\"frame_count\")[channels].agg([\"mean\", \"std\", \"count\"]).reset_index()\n",
    "\n",
    "# Flatten the multi-level columns\n",
    "df_summary.columns = [\"frame_count\"] + [f\"{col[0]}_{col[1]}\" for col in df_summary.columns[1:]]\n",
    "\n",
    "# Min-max scale the means and calculate 95% CI\n",
    "for channel in channels:\n",
    "    mean_col = f\"{channel}_mean\"\n",
    "    std_col = f\"{channel}_std\"\n",
    "    count_col = f\"{channel}_count\"\n",
    "\n",
    "    # Scale the mean to have a min of 0 and max of 1\n",
    "    min_val = df_summary[mean_col].min()\n",
    "    max_val = df_summary[mean_col].max()\n",
    "    df_summary[mean_col] = (df_summary[mean_col] - min_val) / (max_val - min_val)\n",
    "\n",
    "    # Adjust std (error bars) based on the same scaling\n",
    "    scale_factor = 1 / (max_val - min_val)\n",
    "    df_summary[std_col] = df_summary[std_col] * scale_factor\n",
    "\n",
    "    # Compute SEM and 95% CI\n",
    "    df_summary[f\"{channel}_sem\"] = df_summary[std_col] / np.sqrt(df_summary[count_col])\n",
    "    df_summary[f\"{channel}_ci\"] = df_summary[f\"{channel}_sem\"] * 1.96  # 95% CI\n",
    "\n",
    "# Convert back to long format for plotting\n",
    "long_df = pd.melt(\n",
    "    df_summary,\n",
    "    id_vars=\"frame_count\",\n",
    "    value_vars=[f\"{channel}_mean\" for channel in channels],\n",
    "    var_name=\"Channel\",\n",
    "    value_name=\"Mean Intensity\",\n",
    ")\n",
    "\n",
    "# Add confidence intervals\n",
    "long_df[\"CI\"] = pd.melt(\n",
    "    df_summary, id_vars=\"frame_count\", value_vars=[f\"{channel}_ci\" for channel in channels], value_name=\"CI\"\n",
    ")[\"CI\"]\n",
    "\n",
    "# Map channel names for better readability\n",
    "channel_mapping = {\n",
    "    \"intensity_mean-0_mean\": \"Actin\",\n",
    "    \"intensity_mean-1_mean\": \"Actin Shifted 10\",\n",
    "}\n",
    "long_df[\"Channel\"] = long_df[\"Channel\"].map(channel_mapping)\n",
    "\n",
    "# Plotting with confidence intervals\n",
    "\n",
    "# frame_count -WINDOW_SIZE\n",
    "long_df[\"frame_count\"] = long_df[\"frame_count\"] - WINDOW_SIZE\n",
    "\n",
    "fig, ax = plt.subplots(figsize=(4, 2))\n",
    "for idx, channel in enumerate(long_df[\"Channel\"].unique()):\n",
    "    subset = long_df[long_df[\"Channel\"] == channel]\n",
    "    sns.lineplot(\n",
    "        data=subset,\n",
    "        x=\"frame_count\",\n",
    "        y=\"Mean Intensity\",\n",
    "        label=channel,\n",
    "        ax=ax,\n",
    "        color=colors[idx],\n",
    "        linewidth=1,\n",
    "    )\n",
    "    # Add confidence intervals\n",
    "    ax.fill_between(\n",
    "        subset[\"frame_count\"],\n",
    "        subset[\"Mean Intensity\"] - subset[\"CI\"],\n",
    "        subset[\"Mean Intensity\"] + subset[\"CI\"],\n",
    "        alpha=0.2,\n",
    "        color=colors[idx],\n",
    "    )\n",
    "\n",
    "    print(\"Max at: \", subset[\"Mean Intensity\"].argmax() - WINDOW_SIZE)\n",
    "\n",
    "    ax.axvline(x=subset[\"Mean Intensity\"].argmax() - WINDOW_SIZE, linestyle=\"--\", linewidth=1, color=colors[idx])\n",
    "\n",
    "# Customize plot appearance\n",
    "ax.set_title(\"Normalized Intensity with 95% Confidence Intervals\")\n",
    "ax.set_xlabel(\"Time [min]\")\n",
    "ax.set_ylabel(\"Normalized Intensity [a.u.]\")\n",
    "ax.set_xlim(-50, 50)\n",
    "ticks = np.arange(-48, 49, 6)\n",
    "ax.set_xticks(ticks)\n",
    "tick_labels = [str(int(tick / 6)) if (tick / 6) % 2 == 0 else \"\" for tick in ticks]\n",
    "ax.set_xticklabels(tick_labels)\n",
    "\n",
    "\n",
    "plt.tight_layout()\n",
    "plt.savefig(f\"{DIR_CORE}/{DIR_OUT_PLOT}/normalized_intensity_actin_shift_10.pdf\")\n",
    "plt.show()"
   ]
  }
 ],
 "metadata": {
  "kernelspec": {
   "display_name": "imageanalysis",
   "language": "python",
   "name": "python3"
  },
  "language_info": {
   "codemirror_mode": {
    "name": "ipython",
    "version": 3
   },
   "file_extension": ".py",
   "mimetype": "text/x-python",
   "name": "python",
   "nbconvert_exporter": "python",
   "pygments_lexer": "ipython3",
   "version": "3.12.9"
  }
 },
 "nbformat": 4,
 "nbformat_minor": 5
}
